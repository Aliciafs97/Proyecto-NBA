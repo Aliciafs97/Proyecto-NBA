{
 "cells": [
  {
   "cell_type": "code",
   "execution_count": 1,
   "metadata": {},
   "outputs": [],
   "source": [
    "import pandas as pd\n",
    "import numpy as np\n",
    "import matplotlib.pyplot as plt\n",
    "from scipy import stats\n",
    "import seaborn as sns"
   ]
  },
  {
   "cell_type": "code",
   "execution_count": 3,
   "metadata": {},
   "outputs": [],
   "source": [
    "df = pd.read_csv('imagenes.csv', index_col=0)"
   ]
  },
  {
   "cell_type": "code",
   "execution_count": 10,
   "metadata": {},
   "outputs": [
    {
     "data": {
      "text/html": [
       "<div>\n",
       "<style scoped>\n",
       "    .dataframe tbody tr th:only-of-type {\n",
       "        vertical-align: middle;\n",
       "    }\n",
       "\n",
       "    .dataframe tbody tr th {\n",
       "        vertical-align: top;\n",
       "    }\n",
       "\n",
       "    .dataframe thead th {\n",
       "        text-align: right;\n",
       "    }\n",
       "</style>\n",
       "<table border=\"1\" class=\"dataframe\">\n",
       "  <thead>\n",
       "    <tr style=\"text-align: right;\">\n",
       "      <th></th>\n",
       "      <th>jugador</th>\n",
       "      <th>imagen</th>\n",
       "    </tr>\n",
       "  </thead>\n",
       "  <tbody>\n",
       "    <tr>\n",
       "      <th>0</th>\n",
       "      <td>Joel Embiid</td>\n",
       "      <td>https://cdn.nba.com/headshots/nba/latest/1040x...</td>\n",
       "    </tr>\n",
       "    <tr>\n",
       "      <th>1</th>\n",
       "      <td>Giannis Antetokounmpo</td>\n",
       "      <td>https://cdn.nba.com/headshots/nba/latest/1040x...</td>\n",
       "    </tr>\n",
       "    <tr>\n",
       "      <th>2</th>\n",
       "      <td>Kevin Durant</td>\n",
       "      <td>https://cdn.nba.com/headshots/nba/latest/1040x...</td>\n",
       "    </tr>\n",
       "    <tr>\n",
       "      <th>3</th>\n",
       "      <td>LeBron James</td>\n",
       "      <td>https://cdn.nba.com/headshots/nba/latest/1040x...</td>\n",
       "    </tr>\n",
       "    <tr>\n",
       "      <th>4</th>\n",
       "      <td>Stephen Curry</td>\n",
       "      <td>https://cdn.nba.com/headshots/nba/latest/1040x...</td>\n",
       "    </tr>\n",
       "    <tr>\n",
       "      <th>5</th>\n",
       "      <td>Klay Thompson</td>\n",
       "      <td>https://cdn.nba.com/headshots/nba/latest/1040x...</td>\n",
       "    </tr>\n",
       "    <tr>\n",
       "      <th>6</th>\n",
       "      <td>Donovan Mitchell</td>\n",
       "      <td>https://cdn.nba.com/headshots/nba/latest/1040x...</td>\n",
       "    </tr>\n",
       "    <tr>\n",
       "      <th>7</th>\n",
       "      <td>Rudy Gobert</td>\n",
       "      <td>https://cdn.nba.com/headshots/nba/latest/1040x...</td>\n",
       "    </tr>\n",
       "    <tr>\n",
       "      <th>8</th>\n",
       "      <td>Domantas Sabonis</td>\n",
       "      <td>https://cdn.nba.com/headshots/nba/latest/1040x...</td>\n",
       "    </tr>\n",
       "    <tr>\n",
       "      <th>9</th>\n",
       "      <td>Paul George</td>\n",
       "      <td>https://cdn.nba.com/headshots/nba/latest/1040x...</td>\n",
       "    </tr>\n",
       "    <tr>\n",
       "      <th>10</th>\n",
       "      <td>Dejounte Murray</td>\n",
       "      <td>https://cdn.nba.com/headshots/nba/latest/1040x...</td>\n",
       "    </tr>\n",
       "    <tr>\n",
       "      <th>11</th>\n",
       "      <td>Chris Paul</td>\n",
       "      <td>https://cdn.nba.com/headshots/nba/latest/1040x...</td>\n",
       "    </tr>\n",
       "    <tr>\n",
       "      <th>12</th>\n",
       "      <td>Jaren Jackson Jr.</td>\n",
       "      <td>https://cdn.nba.com/headshots/nba/latest/1040x...</td>\n",
       "    </tr>\n",
       "    <tr>\n",
       "      <th>13</th>\n",
       "      <td>Myles Turner</td>\n",
       "      <td>https://cdn.nba.com/headshots/nba/latest/1040x...</td>\n",
       "    </tr>\n",
       "    <tr>\n",
       "      <th>14</th>\n",
       "      <td>Trae Young</td>\n",
       "      <td>https://cdn.nba.com/headshots/nba/latest/1040x...</td>\n",
       "    </tr>\n",
       "  </tbody>\n",
       "</table>\n",
       "</div>"
      ],
      "text/plain": [
       "                  jugador                                             imagen\n",
       "0             Joel Embiid  https://cdn.nba.com/headshots/nba/latest/1040x...\n",
       "1   Giannis Antetokounmpo  https://cdn.nba.com/headshots/nba/latest/1040x...\n",
       "2            Kevin Durant  https://cdn.nba.com/headshots/nba/latest/1040x...\n",
       "3            LeBron James  https://cdn.nba.com/headshots/nba/latest/1040x...\n",
       "4           Stephen Curry  https://cdn.nba.com/headshots/nba/latest/1040x...\n",
       "5           Klay Thompson  https://cdn.nba.com/headshots/nba/latest/1040x...\n",
       "6        Donovan Mitchell  https://cdn.nba.com/headshots/nba/latest/1040x...\n",
       "7             Rudy Gobert  https://cdn.nba.com/headshots/nba/latest/1040x...\n",
       "8        Domantas Sabonis  https://cdn.nba.com/headshots/nba/latest/1040x...\n",
       "9             Paul George  https://cdn.nba.com/headshots/nba/latest/1040x...\n",
       "10        Dejounte Murray  https://cdn.nba.com/headshots/nba/latest/1040x...\n",
       "11             Chris Paul  https://cdn.nba.com/headshots/nba/latest/1040x...\n",
       "12      Jaren Jackson Jr.  https://cdn.nba.com/headshots/nba/latest/1040x...\n",
       "13           Myles Turner  https://cdn.nba.com/headshots/nba/latest/1040x...\n",
       "14             Trae Young  https://cdn.nba.com/headshots/nba/latest/1040x..."
      ]
     },
     "execution_count": 10,
     "metadata": {},
     "output_type": "execute_result"
    }
   ],
   "source": [
    "df.reset_index()\n"
   ]
  },
  {
   "cell_type": "code",
   "execution_count": 7,
   "metadata": {},
   "outputs": [],
   "source": [
    "df.to_csv('imagenes.csv')"
   ]
  }
 ],
 "metadata": {
  "interpreter": {
   "hash": "0620710c65b0f5ccc651a2aa8870ae0eb4c70492424a8d7866846658189426a3"
  },
  "kernelspec": {
   "display_name": "Python 3.9.7 ('base')",
   "language": "python",
   "name": "python3"
  },
  "language_info": {
   "codemirror_mode": {
    "name": "ipython",
    "version": 3
   },
   "file_extension": ".py",
   "mimetype": "text/x-python",
   "name": "python",
   "nbconvert_exporter": "python",
   "pygments_lexer": "ipython3",
   "version": "3.9.7"
  },
  "orig_nbformat": 4
 },
 "nbformat": 4,
 "nbformat_minor": 2
}
