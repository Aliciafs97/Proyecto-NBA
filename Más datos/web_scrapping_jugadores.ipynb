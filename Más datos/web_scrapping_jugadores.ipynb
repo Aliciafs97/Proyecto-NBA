{
 "cells": [
  {
   "cell_type": "code",
   "execution_count": 1,
   "metadata": {},
   "outputs": [],
   "source": [
    "import requests \n",
    "import re \n",
    "import pandas as pd \n",
    "import numpy as np\n",
    "from bs4 import BeautifulSoup #Nos permite extraer toda la información que hay detrás de una página web"
   ]
  },
  {
   "cell_type": "markdown",
   "metadata": {},
   "source": [
    "## Obtener información sobre jugadores"
   ]
  },
  {
   "cell_type": "code",
   "execution_count": 2,
   "metadata": {},
   "outputs": [],
   "source": [
    "#url = \"https://es.global.nba.com/playerindex/\""
   ]
  },
  {
   "cell_type": "code",
   "execution_count": 2,
   "metadata": {},
   "outputs": [],
   "source": [
    "url = \"https://www.hispanosnba.com/jugadores/nba-activos/a\""
   ]
  },
  {
   "cell_type": "code",
   "execution_count": 3,
   "metadata": {},
   "outputs": [],
   "source": [
    "res1 = requests.get(url).content\n",
    "df_list = pd.read_html(res1)"
   ]
  },
  {
   "cell_type": "code",
   "execution_count": 4,
   "metadata": {},
   "outputs": [
    {
     "name": "stdout",
     "output_type": "stream",
     "text": [
      "                      Nombre   Pos. Alt. En la NBA            \n",
      "                      Nombre   Pos. Alt.     Desde Hasta Temp.\n",
      "0           Precious Achiuwa   P/AP  203      2020  2022     2\n",
      "1               Steven Adams      P  211      2013  2022     9\n",
      "2                Bam Adebayo      P  206      2017  2022     5\n",
      "3               Ochai Agbaji     ES  196      ----  ----     0\n",
      "4               Santi Aldama   P/AP  211      2021  2022     1\n",
      "5          LaMarcus Aldridge   P/AP  211      2006  2022    16\n",
      "6   Nickeil Alexander-Walker   ES/B  196      2019  2022     3\n",
      "7              Grayson Allen  ES/AL  193      2018  2022     4\n",
      "8              Jarrett Allen      P  211      2017  2022     5\n",
      "9              Jose Alvarado      B  183      2021  2022     1\n",
      "10             Kyle Anderson  AP/AL  204      2014  2022     8\n",
      "11     Giannis Antetokounmpo     AP  211      2013  2022     9\n",
      "12    Thanasis Antetokounmpo  AP/AL  198      2015  2022     4\n",
      "13           Carmelo Anthony   AP/P  203      2003  2022    19\n",
      "14              Cole Anthony      B  191      2020  2022     2\n",
      "15                OG Anunoby  AL/ES  201      2017  2022     5\n",
      "16          Ryan Arcidiacono   ES/B  191      2017  2022     5\n",
      "17             D.J. Augustin      B  180      2008  2022    14\n",
      "18               Deni Avdija  AL/AP  205      2020  2022     2\n",
      "19             Deandre Ayton      P  211      2018  2022     4\n",
      "20            Udoka Azubuike      P  213      2020  2022     2\n"
     ]
    }
   ],
   "source": [
    "df = df_list[-1]\n",
    "print(df)"
   ]
  },
  {
   "cell_type": "code",
   "execution_count": 6,
   "metadata": {},
   "outputs": [],
   "source": [
    "df.to_csv('tabla_jugadores.csv')"
   ]
  }
 ],
 "metadata": {
  "kernelspec": {
   "display_name": "Python 3.10.5 64-bit",
   "language": "python",
   "name": "python3"
  },
  "language_info": {
   "codemirror_mode": {
    "name": "ipython",
    "version": 3
   },
   "file_extension": ".py",
   "mimetype": "text/x-python",
   "name": "python",
   "nbconvert_exporter": "python",
   "pygments_lexer": "ipython3",
   "version": "3.10.5"
  },
  "orig_nbformat": 4,
  "vscode": {
   "interpreter": {
    "hash": "d3e10ef16274dd72e574b8fa73b58450b957d8421a2901baded3cca26fcf5dda"
   }
  }
 },
 "nbformat": 4,
 "nbformat_minor": 2
}
