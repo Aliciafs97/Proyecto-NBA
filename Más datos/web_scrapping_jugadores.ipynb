{
 "cells": [
  {
   "cell_type": "code",
   "execution_count": 38,
   "metadata": {},
   "outputs": [],
   "source": [
    "import requests \n",
    "import re \n",
    "import pandas as pd \n",
    "import numpy as np\n",
    "from bs4 import BeautifulSoup #Nos permite extraer toda la información que hay detrás de una página web"
   ]
  },
  {
   "cell_type": "markdown",
   "metadata": {},
   "source": [
    "## Obtener información sobre jugadores"
   ]
  },
  {
   "cell_type": "code",
   "execution_count": 39,
   "metadata": {},
   "outputs": [],
   "source": [
    "#url = \"https://es.global.nba.com/playerindex/\""
   ]
  },
  {
   "cell_type": "code",
   "execution_count": 40,
   "metadata": {},
   "outputs": [],
   "source": [
    "url = \"https://www.hispanosnba.com/jugadores/nba-activos/a\""
   ]
  },
  {
   "cell_type": "code",
   "execution_count": 41,
   "metadata": {},
   "outputs": [
    {
     "data": {
      "text/plain": [
       "200"
      ]
     },
     "execution_count": 41,
     "metadata": {},
     "output_type": "execute_result"
    }
   ],
   "source": [
    "res1 = requests.get(url)\n",
    "res1.status_code"
   ]
  },
  {
   "cell_type": "code",
   "execution_count": 42,
   "metadata": {},
   "outputs": [],
   "source": [
    "sopa_nba = BeautifulSoup(res1.content, 'html.parser')"
   ]
  },
  {
   "cell_type": "code",
   "execution_count": 43,
   "metadata": {},
   "outputs": [
    {
     "data": {
      "text/plain": [
       "\n",
       "<!DOCTYPE html>\n",
       "\n",
       "<html lang=\"es\">\n",
       "<head id=\"cabec\"><title>\n",
       "\tJugadores NBA activos cuyo apellido empieza por A - Hispanosnba.com\n",
       "</title><meta charset=\"utf-8\"/><link href=\"https://fonts.googleapis.com\" rel=\"preconnect\"/><link crossorigin=\"\" href=\"https://fonts.gstatic.com\" rel=\"preconnect\"/><link href=\"https://fonts.googleapis.com/css?family=Open+Sans:400italic,400,700%7CRoboto+Condensed:400,700&amp;display=swap\" rel=\"stylesheet\"/><link href=\"/imagenes/favicon.ico\" rel=\"shortcut icon\"/>\n",
       "<style>\n",
       "      \t /*master*/body{font:62.5%/1.375 'Open Sans',Arial,Helvetica,Garuda,sans-serif;color:#000;}.wrapper{background-color:#FFF;max-width:990px;margin:50px auto 0;}body.android {text-rendering: auto;}\n",
       "article,aside,details,figcaption,figure,footer,header,hgroup,menu,nav,section,div,ul {display:block;box-sizing:border-box;-webkit-box-sizing: border-box;-moz-box-sizing: border-box;}\n",
       ".header{width: 100%;position:fixed;left:0;top:0;right:0;z-index:999;}.hbanner {width: 100%;height: 50px;background-color:#13B1E3;position:relative;z-index:999;}\n",
       "figure {padding:0;margin:0;}ul, li {margin:0;padding:0;list-style-type:none;}h1, h2, h3, h4, h5, h6 {margin: 0;padding:0;}\n",
       "a {text-decoration: none;color: inherit;}a:hover {text-decoration: underline;}nav {width: 100%;}.main{width:100%;max-width:990px;margin:0 auto;}.content{margin:0;width:68.75%;float:left;box-sizing:border-box;padding:10px 32px 0 0;}\n",
       ".sitepath {padding:10px;font-size:1.3em;text-transform:uppercase;color:#125B8A;clear:both;float:left;font-family:'Roboto Condensed',Arial,Helvetica,Garuda,sans-serif;}\n",
       ".sidebar {width:31.25%;margin:10px 0;float:left;padding:0;}.gsearch{position:absolute;bottom:3px;right:142px;width:300px;}\n",
       ".container, .nav-block,.nav-block-h {width: 100%;margin:10px 0 15px;}.thumb{width:100%;margin:0 0 20px;}.thumb li {display: inline-block;box-sizing: border-box;}.thumb p {margin: 0;}\n",
       "#tabs,#tabs1,#tabs2,#tabs3,#tabstr,#tabspo,#tabse{width:100%;}.lfoot {text-align:right;float:right;padding:10px 4px 20px 0;font-size:1.2em;}\n",
       ".menunav {background-color: #CCC;font: 1.7em/2.15 'Roboto Condensed',Arial,Helvetica,Garuda,sans-serif;position: relative;margin:0 auto;width:100%;}\n",
       ".social {position: absolute;bottom: 0;right: 2px;}.social li {display:inline-block;}.nav-title {font:normal 2em/1.15 'Roboto Condensed',Arial, Helvetica,Garuda,sans-serif;text-transform:uppercase;width:100%;background-color:#000;color:#FFF;padding-left:10px;margin:8px 0;box-sizing:border-box;-webkit-box-sizing: border-box;-moz-box-sizing: border-box;}\n",
       ".footer{background-color:#18B2E2;font-weight:normal;color:#FFF;width:100%;text-align: center;padding:36px 6px 12px;position:relative;}.footer p{margin:0;font-size:1.4em;}.footer .piepagina{font-size: 1.2em;font-style: italic;text-transform:none;text-align: center;color:#FFF;margin-top:6px;}\n",
       ".footer li {font-size:1.3em;margin:6px 0;}.footer h3 {font-size:1.5em;font-weight:bold;font-family:'Roboto Condensed';text-transform:uppercase;margin-bottom:12px;}\n",
       ".footer {background: rgba(147,220,240,1);background: -moz-linear-gradient(top, rgba(147,220,240,1) 0%, rgba(24,179,226,1) 100%);background: -webkit-gradient(left top, left bottom, color-stop(0%, rgba(147,220,240,1)), color-stop(100%, rgba(24,179,226,1)));background: -webkit-linear-gradient(top, rgba(147,220,240,1) 0%, rgba(24,179,226,1) 100%);background: -o-linear-gradient(top, rgba(147,220,240,1) 0%, rgba(24,179,226,1) 100%);background: linear-gradient(to bottom, rgba(147,220,240,1) 0%, rgba(24,179,226,1) 100%);}\n",
       ".tra {background-color:#FFF;}.widget, .widget-sb {width:100%;}.widget-sb h3 {color:#125B8A;padding:0;font-weight:700;line-height:1.1;margin:6px 0;font-size:1.3em;}.bordr {border-right: solid 4px #D9EAED;}\n",
       ".sep10 {margin:10px 0;}.sepdeq {margin-bottom:18px;width:100%;position:relative;}.sepd40 {margin:20px 0;width:100%;}.pietabla {font-size:1.1em;font-weight:bold;font-style:italic;margin:10px 0;}.pietabla p {padding:12px 0;border-bottom:solid 1px #D9EAED;margin:0;}\n",
       ".pietabla strong {font-weight:normal;}.tblcla tr:first-child td,.tblcla tr:first-child th {padding-top:16px;}.gads,.gads-m,.gads-d,.gads-t{margin:20px auto;width:100%;display:block;text-align:center;}.gads-m {margin:0px auto;}\n",
       ".ampTabContainer {display: flex;flex-wrap: wrap;margin-top:10px;}.tabButton {list-style: none;text-align: center;cursor: pointer;flex:0 1 auto;font-size:1.2em;padding:3px 6px;background-color:#DDD;text-transform:uppercase;margin:0 2px;}.tabButton[selected]{outline: none;background-color: #1A5D8C;font-weight:bold;color:#FFF;}.tabContent {display: none;width: 100%;order: 1;}.tbm{margin-top:10px;}.tabButton[selected]+.tabContent {display: block;}\n",
       ".main .gsc-control-cse{padding:0;}.mb8 li {margin-bottom:8px;}.padr6{padding-right:6px;}\n",
       "@media only screen and (max-width: 62em) {.menunav .megamenu > li {width:25%;}.lastli{width:50%;display:inline-block;text-align:left;}.main{width:96%;}}\n",
       "@media only screen and (max-width: 60em) {.menunav {font-size: 1.5em;line-height:2.5;}}\n",
       "@media only screen and (max-width: 52em) {.content,.sidebar {clear:both;width:100%;padding:10px 0 0;}.sitepath {padding-left:6px;}.sidebar {margin-top:10px;}.menunav {font-size: 1.4em;line-height:2.5;}.menunav li {min-width:9.7%;}}\n",
       "/*cleaning-styles*/.block:before,.block:after{content:\"\";display:table;}.block:after {clear:both;}table td a, table th a {color:#1A5D8C;}table .tdhead th a {color:inherit;}\n",
       ".img-icon24,.img-banner,.img-po,.img-footer,.img-icon50,.img-arrow-b,.img-icon-star,.img-arrow{background-image:url(/imagenes/sprites/iconosv4.png);background-repeat:no-repeat;float:left;}.img-icon24{width:24px;height:24px;margin:4px 4px;}.img-arrow-b {width:25px;height:25px;}.img-arrow-left {background-position:-56px -180px;}.img-arrow-right {background-position:-83px -180px;}.img-info {position:absolute;top:35px;right:15px;}.img-info-h {position:absolute;top:35px;right:35px;}\n",
       ".img-icon50 {width:50px;height:60px;}.img-icon-star{width:20px;height:20px;background-position:-112px -180px;}.img-facebook24{background-position:-10px -130px;}.img-twitter24{background-position:-40px -130px;}.img-rss24{background-position:-74px -130px;}.img-google24{background-position:-158px -192px;}.img-po{width:167px;height:64px;background-position:-120px -124px;position:absolute;top:2px;left:114px;}.img-footer{width:109px;height:60px;background-position:-296px -126px;position:absolute;top:22px;left:6px;opacity:0.9;}.img-ball {background-position:0 -160px;}\n",
       "/*Menu-inicio*/.navButton{background: rgba(0, 0, 0, 0) url(\"/imagenes/recursos/menuw.png\") no-repeat scroll 0 0;background-position:0 0;width: 30px;height: 30px;position: absolute;top:10px;left: 15px;z-index: 10000;background-color: transparent;border: none;outline:thin groove;color: #fff;font-size: 20px;line-height: 1.5em;text-align: left;display: block;/*padding: 10px 0 0 15px;*/cursor: pointer;}\n",
       "#mainnav {padding-bottom:70px;}#mainnav li {margin: 0;list-style: none;padding-left:30px;font: 700 1.5em/2.15 'Roboto Condensed',Arial,Helvetica,Garuda,sans-serif;}\n",
       "@media only screen and (max-width: 25em) {.navButton {left:10px;}}/*Menu-fin*/\n",
       ".tdn {font-weight: bold;}.tdr {text-align:right;}.gsearch{position:absolute;bottom:10px;left:10px;width:250px;}.img-banner-amp {background-image:url(/imagenes/sprites/logomain_f.jpg);width:344px;height:50px;text-align:center;margin-left:-172px;position:absolute;left:50%;}\n",
       ".destacado{font-size:1.5em;background-color:#1078B9;text-align:center;line-height:1.8;padding:6px;color:#FFF;font-weight:bold;}\n",
       "@media only screen and (max-width: 56em) {.img-banner-amp {background-image:url(/imagenes/sprites/logomain_m.png);width:280px;height:50px;text-align:center;margin-left:-140px;position:absolute;left:50%;}}\n",
       "@media only screen and (max-width: 31em) {.img-banner-amp {background-image: url(/imagenes/sprites/logomain2.jpg);width: 200px;height: 50px;margin-left:0;left:0;}.gads-m{margin:20px auto;}.destacado{font-size:1.3em;}}\n",
       ".lnklanv, .lnklan {text-transform: uppercase;font: 9px/2 'Open Sans',Verdana,Arial,Helvetica,Garuda,sans-serif;position:absolute;top:0px;right:10px;color:#FFF;}\n",
       "@media only print {.content {width: 100%;margin: 0;background-color: #FFF;}.sidebar, #mhead, .footer, .menunav, .gads, .scl, .gsearch, .disqus_sepd, .firman,.gads-m,.gads-d,.gads-t,.topsep {display: none;}}/*menu*/.menunav {background-color: #CCC;max-width:990px;margin:0 auto;}.wrapper{margin:0 auto;}.topsep {padding-top:76px;}\n",
       "@media only screen and (max-width: 31em) {.img-banner-amp {background-image: url(/imagenes/sprites/logomain2.jpg);width: 200px;height: 50px;}}\n",
       ".menunav ul li ul {display:none;}.menunav {font: 1.6em/2 'Roboto Condensed',Arial,Helvetica,Garuda,sans-serif;position: relative;margin:0 auto;width:100%;}\n",
       ".menunav li ul {position:absolute;left:0;display:none;z-index:99;min-width:100%;overflow:visible;}.menunav li a {width:100%;}\n",
       ".menunav li ul li {font-size:0.929em;min-width:initial;line-height:30px;float:left;width:20%;display:block;border:none;text-align:left;white-space:nowrap;background-color: #EEE;color:#333;padding:0 10px;}\n",
       ".menunav li:hover ul, .menunav li:focus ul {display:block;position:absolute;}.menunav li:hover, .menunav li:active {background-color:#EEE;} .menunav li ul li:hover, .menunav li ul li:active {background-color:#C0C3C4;} \n",
       ".menunav li{z-index:300;float:left;box-sizing:border-box;display:list-item;min-width:10%;text-align:center;background-color: #C0C3C4;color: #000;border-right:1px solid #CCC;-webkit-box-sizing: border-box;-moz-box-sizing: border-box;}\n",
       ".menunav ul li ul {width:100%;position:absolute;left:0 !important;padding:10px 0;box-sizing:border-box;background-color: #EEE;}.menunav ul li ul > li {position:relative;width:20%;display:inline-block;box-sizing:border-box;min-width:0;line-height:36px;}\n",
       ".menunav ul li ul > li:hover, .menunav ul li ul > li:active{background-color:#EEE;}.menunav ul li ul li span {margin-top: 3px;}.menunav ul li ul > li a {padding-left:4px;}.active {width:100%;display:block !important;}.inactive {display:none;width:100%;}#pull {display:none;}\n",
       "@media only screen and (max-width: 56em){.menunav {font-size: 1.4em;line-height:2.2;}}\n",
       "@media only screen and (max-width:50em) {.topsep{padding-top:20px;}.gsearch{width:250px;box-sizing:border-box;float:right;display:block;position:relative;z-index:9;bottom:-54px;margin-right:60px;}\n",
       ".header {position:relative;}.menunav {height:auto;font-size:1.6em;line-height:2;}.menunav ul {width:100%;display:none;height:auto;}  \n",
       ".menunav ul li {width:100%;float:left;height:auto;line-height:30px;}.menunav li {border-bottom:1px solid #CCC;border-right:1px solid #CCC;text-align:left;padding-left:10px;}\n",
       ".menunav {border-bottom:0;} .menunav a#pull {display:block;width:100%;position:relative;color:#FFF;text-indent:10px;}.menunav a#pull:after {content:\"\";background:url('/imagenes/recursos/menu.png') no-repeat;width:30px;height:30px;display:inline-block;position:absolute;right:15px;top:0px;z-index:99;}\n",
       ".menunav .child {display:block;position:relative;color:#FFF;text-indent:10px;}.menunav .child:after {content:\"\";width:30px;height:30px;display:inline-block;position:absolute;right:5px;top:0px;z-index:99;}\n",
       ".menunav ul li ul{display:none;z-index:999;position:static;}.menunav li:hover ul, .menunav li:focus ul {position:static;}.megamenu {position:static;}.menu-child {width:30px !important;height:30px;float:right;background-color:#bbb;}.menu-child span {margin:10px 0 0 10px;}\n",
       ".menunav li:hover ul, .menunav li:focus ul {display:none;position:relative;}.menunav ul li ul > li {width:33.3%;}}\n",
       "@media only screen and (max-width: 40em) {.menunav ul li ul > li {width: 50%;}}\n",
       ".cse input.gsc-search-button, input.gsc-search-button {background: url('/imagenes/recursos/search-iconb.png') no-repeat !important;text-indent: -9999em;border: none !important;min-width: 0 !important;height: 24px !important;width: 24px !important;}\n",
       "table.gsc-search-box td {height:24px !important;padding:0 4px;}.nfloat {float: none;}\n",
       "@media only screen and (max-width: 26em) {.menunav ul li ul > li {width: 100%;}.hbanner{height:60px;}.gsearch {width: 180px;bottom:-64px;}}\n",
       ".imgr-team{width:25px;height:30px;background-image:url(/imagenes/sprites/equipos_r.png);background-repeat:no-repeat;float:left;}.imgr-atlanta-hawks{background-position:0 0;}.imgr-boston-celtics{background-position:-25px 0;}.imgr-brooklyn-nets{background-position:-50px 0;}.imgr-charlotte-bobcats{background-position:-75px 0;}.imgr-chicago-bulls{background-position:-100px 0;}.imgr-cleveland-cavaliers{background-position:-125px 0;}.imgr-dallas-mavericks{background-position:0 -30px;}.imgr-denver-nuggets{background-position:-25px -30px;}.imgr-detroit-pistons{background-position:-50px -30px;}.imgr-golden-state-warriors{background-position:-75px -30px;}.imgr-houston-rockets{background-position:-100px -30px;}.imgr-indiana-pacers{background-position:-125px -30px;}.imgr-los-angeles-clippers{background-position:0 -60px;}.imgr-los-angeles-lakers{background-position:-25px -60px;}.imgr-memphis-grizzlies{background-position:-50px -60px;}.imgr-miami-heat{background-position:-75px -60px;}.imgr-milwaukee-bucks{background-position:-100px -60px;}.imgr-minnesota-timberwolves{background-position:-125px -60px;}.imgr-new-jersey-nets{background-position:0 -90px;}.imgr-new-orleans-hornets{background-position:-25px -90px;}.imgr-new-york-knicks{background-position:-50px -90px;}.imgr-oklahoma-city-thunder{background-position:-75px -90px;}.imgr-orlando-magic{background-position:-100px -90px;}.imgr-philadelphia-76ers{background-position:-125px -90px;}.imgr-phoenix-suns{background-position:0 -120px;}.imgr-portland-trail-blazers{background-position:-25px -120px;}.imgr-sacramento-kings{background-position:-50px -120px;}.imgr-san-antonio-spurs{background-position:-75px -120px;}.imgr-seattle-supersonics{background-position:-100px -120px;}.imgr-toronto-raptors{background-position:-125px -120px;}.imgr-utah-jazz{background-position:0 -150px;}.imgr-washington-wizards{background-position:-25px -150px;}.imgr-new-orleans-pelicans{background-position:-50px -150px;}.imgr-charlotte-hornets{background-position:-75px -150px;}/*blocks*/.three-1, .three-2, .three-3{box-sizing:border-box;-webkit-box-sizing: border-box;-moz-box-sizing: border-box;position:relative;float:left;width:33.33%;margin-right:-100%;}.half-1,.half-2,.half-t1,.half-t2,.half-1e,.half-2e{float:left;width:50%;margin-right:-100%;box-sizing:border-box;-webkit-box-sizing: border-box;-moz-box-sizing: border-box;}\n",
       ".three-1{margin-left:0;padding-right:16px;}.three-2{margin-left:33.33%;padding:0 8px;}.three-3{margin-left:66.67%;padding-left:16px;}.half-1, .half-t1,.half-1e{margin-left:0;padding-right:10px;clear:both;}.half-2,.half-t2,.half-2e{margin-left:50%;padding-left:10px;}\n",
       ".pad1 {padding:12px 16px 0 0;}.pad2 {padding:12px 8px 0;}.pad3 {padding:12px 0 0 16px;}.fechan {float:right;padding-left:8px;}.estjorh .pad1 {padding:0 8px 0 0;}.estjorh .pad2 {padding:0 8px;}.estjorh .pad3 {padding:0 0 0 8px;border:none;}\n",
       ".sepest,.sepest2{width:100%;}.sepest p,.sepest2 p {margin:4px 0px;}.sepest span,.sepest2 span {float:right;}.titotr {font-weight: bold;background-color: #F2F2F2;width:100%;display:block;padding:2px;color:#000;box-sizing:border-box;-webkit-box-sizing: border-box;-moz-box-sizing: border-box;}\n",
       ".sepest li,.sepest2 li {width:33.2%;float:left;color:#666;font-size: 1.2em;display:inline-block;box-sizing:border-box;-webkit-box-sizing: border-box;-moz-box-sizing: border-box;}\n",
       ".sepest2 li {height:250px;font-size: 1em;margin-bottom:10px;border-bottom:none;}.pannot, .news-block{/*border: solid 1px #DDD;*/width:100%;margin:20px 0;}.tagblk h3 {margin-bottom:10px;}\n",
       ".news-list li:before,.relblkv li:before {content:\"\"; background-color:#DDD; position: absolute; top: 0; left: 0; height: 2px; width: 70%;}.news-list li:first-child:before,.relblkv li:first-child:before {background-color:#FFF;}.news-list {width:100%;}.nlmin {min-height:100px;}\n",
       ".news-list li p, .relblkv li p, .thumb p{font-size:1.4em;position:relative;font-weight:700;color:#666;overflow:hidden;}.news-list li a, .thumb a, .blue{color:#1A5D8C;line-height:1.5em;}\n",
       ".news-list li p {margin:0;line-height:1.6;}.news-list li{padding:12px 6px;box-sizing:border-box;-webkit-box-sizing: border-box;-moz-box-sizing: border-box;position:relative;}\n",
       ".video {width:18px;height:15px;background-image:url('/imagenes/recursos/video.png');background-repeat:no-repeat;float:left;margin-right:4px;}.full{width:100%;}\n",
       ".piepagina{font-size: 1.1em;font-style: italic;text-transform:none;text-align: center;color:#FFF;margin-top:6px;}.piepag {font-size:1.1em;color:#4D4D4D;font-style:italic;margin:18px 0;clear:both;}\n",
       ".hblock {width:100%;display:flex;flex-flow:row wrap;align-items:flex-start;align-content:center;justify-content:space-between;margin:20px 0;}.half-1x,.half-2x {flex:1 1 48%;align-self:auto;}.half-1x{align-content:flex-start;order:1;padding-right:10px;}.half-2x{align-content:flex-end;order:2;padding-left:10px;}\n",
       ".blk3{margin-bottom:25px;}.blk3 ul{display:flex;flex-wrap:wrap;}.blk3 li {flex:1 1 31%;align-self:auto;padding:6px;align-content:flex-start;margin-bottom:6px;height:auto;}.pdr10{padding-right:10px;}.pdl10{padding-left:10px;}\n",
       "@media only screen and (max-width: 52em) {.news-list li {width:47.5%;margin-right:2%;height:120px;float:left;border-bottom:2px solid #DDD;display:inline-block;}.news-list li:before {background-color:#FFF;}.pannot,.news-block {border: none;}}\n",
       "@media only screen and (max-width: 40em) {.blk3 li {flex:1 1 47%;}.news-list li {height:130px;}.news-list li p {line-height:1.4;}.sepest li,.sepest2 li,.blkteam li {width:50%;}.pad1,.pad2,.pad3 {padding:0;}.tfirst {padding: 12px 12px 0 0;clear:both;}.tlast {padding: 12px 0 0 12px;}.estjorh .tfirst,.estjorh .tlast {padding-top:0;border:none;}}\n",
       "@media only screen and (max-width: 30em) {.blk3 li {flex:1 1 100%;}.three-1, .three-2, .three-3 {width:100%;padding:0;margin:0;}.footer li {display:inline-block;padding-right:12px;padding-bottom:10px;}.footer {text-align:left;padding-top:56px;}\n",
       ".thumb li {display:block;padding:10px 0;border-bottom:2px solid #AAA;}.thumb li .imgt {width:35%;float:left;padding-right:10px;}.half-1,.half-2,.half-1e,.half-2e{margin:0;width:100%;clear:both;padding:0;}.half-1x,.half-2x{flex:1 1 100%;padding:0;}.pdr10{padding-right:0;}.pdl10{padding-left:0;}.half-2x{margin-top:20px;}.tfirst {padding:0;padding-top:12px;}.tlast {padding:0;padding-top:12px;}\n",
       ".news-list li {width:100%;height:auto;padding:14px 6px;margin:0;border-bottom:2px solid #DDD;display:block;}.h2fequ,.h3five, .h2bsc, .blkjug .hmob, .blkjug2 .hmob, .jugsal .hmob, .sepest .hmob,.sepest2 .hmob,.bm .hmob, table .hmob2 {font-size:1.8em;}.nopadrl {padding-right:0;padding-left:0;}\n",
       ".sepest li,.sepest2 li {width:100%;height:auto;border:solid 1px #1A5D8C;padding:2px;margin:8px 0;}.tfirst {padding:0;padding-top:12px;}.tlast {padding:0;padding-top:12px;}.newsnba li .pmb, .newsncaa li .pmb {display:none;}.h2hist,.h1equ2,.h2salb,.h2saly,.h2sal{margin:0;}\n",
       ".sepest .hlist li,.sepest2 .hlist li {border:none;padding:2px;margin:8px 0;}.fred {font-size:1em;}}/*tblprm*/.tblprm {width: 100%;}.tblprm caption {font:normal 1.8em/1.313 'Roboto Condensed',Arial,Helvetica,Garuda,sans-serif;color:#FFF;background-color:#202C32;padding:0 4px;text-transform:uppercase;text-align:left;margin-bottom:10px;}\n",
       ".tblprm {background-color: #F2F2F2;border-collapse:collapse;}.tblprm td,.tblprm th {padding-left:8px;height:28px;font-size:1.4em;}.tblprm .tdr {padding-right:4px;}.tblprm th{font-weight:bold;}\n",
       ".tblprm .tdhead th {text-align:left;padding-left:8px;background-color:#1078B9;color:#FFF;font-weight:bold;border-width:0 1px 2px 0;}.tblprm .tdl{text-align:left;padding-left:6px;}\n",
       "@media only screen and (max-width: 30em) {.tblprm td,.tblprm th {height:auto;font-size:1.1em;padding:10px 0 10px 4px;}.tblprm .tdhead th{padding-left:4px;}}/*cabeceras*/.h1equ,.h1equ2,.subequ {font:bold 1.7em/1.235 'Roboto Condensed',Arial,Helvetica,Garuda,sans-serif;color:#FFF;background-color:#1A5D8C;padding:2px 8px;text-transform:uppercase;}\n",
       ".h1equ span {text-transform:lowercase;}.h1equ2 {margin-top:20px;}.subequ {color:#4D4D4D;background-color:#DDD;padding:0 8px;margin:5px 0;text-transform:none;font-weight:normal;}\n",
       ".h2eque, .h2equo {box-sizing:border-box;-webkit-box-sizing: border-box;-moz-box-sizing: border-box;font:bold 1.5em/1.2 'Roboto Condensed',Arial,Helvetica,Garuda,sans-serif;color:#FFF;background-color:#0D86AB;text-transform:uppercase;padding:0 8px;margin:18px 0;display:inline-block;width:100%;}\n",
       ".h2equo {background-color:#928A1F;}.h2tbla {background-color:#48555F;color:#FFF;text-transform:uppercase;padding-left:8px;font-weight:bold;font-family:'Roboto Condensed',Arial,Helvetica,Garuda,sans-serif;text-align:left;font-size:1.4em;}\n",
       ".h1sal{font:bold 1.7em/1.235 'Roboto Condensed',Arial,Helvetica,Garuda,sans-serif;color:#FFF;background-color:#202C32;padding:0 4px;text-transform:uppercase;}\n",
       ".h1cal,.h1box {font-size:1.8em;margin-bottom:12px;}.h1sal span {color:#D2D5D6;font-weight:normal;margin-left:8px;}.h1fjug {background-color:#CFE5F3;font:bold 2.4em/1.59 'Roboto Condensed',Arial,Helvetica,Garuda,sans-serif;padding-left:6px;}\n",
       ".h2tbl,.h2tbla{box-sizing:border-box;-webkit-box-sizing: border-box;-moz-box-sizing: border-box;}.title-wrapper,.ncaa-wrapper,.title-wrapper-nb,.title-wrapper-y {box-sizing:border-box;height: 21px;width: 100%;background-color: #13B1E3;margin:0 0 4px;}\n",
       ".ncaa-wrapper {background-color: #FF9797;margin-bottom:10px;}.title-wrapper-nb {margin:4px 0 0;}.widget h3,.ncaa-wrapper h2{font: 1.8em/1.167 'Roboto Condensed',Arial,Helvetica,Garuda,sans-serif;text-transform: uppercase;background-color:#125B8A;color: #FFF;margin-left:21px;padding-left:10px;}.estdes h3 {margin:0;padding:0;}\n",
       ".title-wrapper,.title-wrapper-y {font: 1.8em/1.167 'Roboto Condensed',Arial,Helvetica,Garuda,sans-serif;text-transform: uppercase;background-color:#125B8A;color: #FFF;}\n",
       ".ncaa-wrapper h2 {background-color:#771E1E;}.title-wrapper-y{background-color:#48555F;color:#FFF;}.title-wrapper:before,.title-wrapper-y:before,.title-wrapper-nb:before{content:\"\";border-right:20px #13B1E3 solid;width:0;height:21px;margin-right:6px;}.title-wrapper-y:before{border-right:20px #C6B82F solid;}\n",
       ".h1jugh {font:bold 3em/1.2 'Roboto Condensed',Arial,Helvetica,Garuda,sans-serif;}\n",
       "@media only screen and (max-width:30em){.h1sal span {margin-left: 0;clear: both;display: block;}.h1jugh {font-size:2.4em;}}/*jugadores_i*/.entrada {font-size:1.4em;line-height:1.5;margin:10px 0;}.equbtjg li{padding:5px 12px;font-size:1.2em;font-weight:bold;color:Black;text-align:center;margin:0;box-sizing:border-box;-webkit-box-sizing: border-box;-moz-box-sizing: border-box;}\n",
       ".equbtjg span {font-size:1.7em;color:#1A5D8C;line-height:1.47;margin:0 16px;}.equbtjg p {clear:both;margin:10px 0;}.equbtjg {width:100%;display:flex;flex-flow:row wrap;align-content:center;}\n",
       ".equbtjg li {margin-top:12px;flex:0 1 16.6%;align-self:auto;order:1;min-width:84px;}.equbtjg li span {align-self:auto;order:3;min-width:120px;}.juglet ul {margin:10px 0;border-top:1px solid #1A5D8C;border-bottom:1px solid #1A5D8C;padding:4px 0;width:100%;}\n",
       ".juglet li {display: inline;margin: 0 7px 0 6px;font-size:1.6em;font-weight:bold;color:#1A5D8C;float:left;}.equbtjg img, .equbtjg amp-img{max-width:70px;height:auto;margin:0;margin-bottom:6px;}.equbtjg li p{margin:0;}\n",
       ".jugdath{padding-left:10px;}.jugcabh li span {color:#1A5D8C;font-weight:bold;}\n",
       "@media only screen and (max-width: 23em){.equbtjg li{flex:0 1 33%;}}/*imagenes*/img {border: none;margin: 0;}.thumb li img {width: 100%;height: auto;margin-bottom:8px;}.news-list img {float:left;height:auto;margin-right: 10px;margin-bottom: 4px;width: 35%;}.estjor img {position:absolute;top:16px;left:0;}\n",
       ".artnotp img{float:right;padding:4px 0 0 16px;width:49%;box-sizing:border-box;-webkit-box-sizing: border-box;-moz-box-sizing: border-box;height:auto;}\n",
       ".artequ2l img, .artequ2r img {box-sizing:border-box;-webkit-box-sizing: border-box;-moz-box-sizing: border-box;width:100%;margin:10px 0 0 0;height:auto;}\n",
       ".artequn img,.artequns img,.artequn img {box-sizing:border-box;-webkit-box-sizing: border-box;-moz-box-sizing: border-box;margin:0 10px 10px 0;width:36.3%;float:left;height:auto;}\n",
       ".blkmainp img {box-sizing:border-box;-webkit-box-sizing: border-box;-moz-box-sizing: border-box;float:left;padding:16px 14px 0 0;width:32.5%;height:auto;}\n",
       ".newsnba img, .newsnba span {float:left;margin-right:16px;margin-bottom:0;width:60px;}.nright img,.nright span {float:right;margin-left:16px;}\n",
       ".estjorh img {float: left;display:block;margin-right:6px;}.jugdati img, .jugdath img {position:absolute;top:0;left:0;height:auto;}.jugdatb img,.jugdat img,.jugdath img {float:left;}\n",
       ".news-list-c img {float:left;margin:0 8px 10px 0;min-width:120px;}.block-f img {width: 100%;height: auto;display:block;}.post-opi img {position: absolute;right: 8px;bottom: 0;z-index:10;width:63px;}.jugdatb img,.jugdat img {float:left;width:33.3%;max-width:100px;}\n",
       ".jugplan img {float:left;padding-right:8px;margin-bottom:10px;width:34%;height:auto;min-width:45px;max-width:70px;}.tblest img,.tblestd img{float: left;border-right:solid 1px #FFF;margin-right:2px;width:100%;max-width:55px;height:auto;}.sgray{font-size:1.2em;color:#666;}\n",
       "@media only screen and (max-width: 52em) {.artnotp img {width:30%;}.artequn img,.artequns img {width:30%;}}\n",
       "@media only screen and (max-width: 40em) {.artnotp img {width:100%;margin:0;margin-bottom:6px;float:none;}}\n",
       "@media only screen and (max-width: 30em) {.artequn img, .artequns img {width: 40%;}.artequns img {margin-top: 0;}.news-list img {min-width: 80px;width:30%;}.block-b img, .block-f img {display: none;height: 0;width: 0;}.artnotp img{padding:0;}.jugdath img{width:80px;height:96px;}}\n",
       "@media only screen and (max-width: 25em) {.blkmainp article img {display:none;}}\n",
       ".ui-helper-reset{margin:0;padding:0;border:0;outline:0;line-height:1.3;text-decoration:none;font-size:100%;list-style:none}.ui-icon{display:block;text-indent:-99999px;overflow:hidden;background-repeat:no-repeat}.ui-widget-content{border:none;color:#000;clear:both;}.ui-widget-header{font-weight:bold;}.ui-widget-header a{color:#222}.ui-state-default,.ui-widget-content .ui-state-default,.ui-widget-header .ui-state-default{font-weight:normal;color:#1A5D8C;background-color:#DDD;}.ui-state-default a,.ui-state-default a:link{color:#0D4EC6;text-decoration:none; padding-bottom:6px;}.ui-state-focus,.ui-widget-content .ui-state-focus,.ui-widget-header .ui-state-focus{font-weight:700;color:#DDD;background-color:#1A5D8C;}.ui-state-hover a:hover{font-weight:700;color:#DDD;background-color:#1A5D8C;text-decoration:none;}.ui-state-active,.ui-widget-content .ui-state-active,.ui-widget-header .ui-state-active{font-weight:700;color:#DDD;background-color:#1A5D8C;}\n",
       "#tabs .ui-tabs-panel {width:100%;}.ui-tabs{position:relative;padding:0;}.ui-tabs .ui-tabs-nav{margin:0;padding:1em 0 0;float:left;}.ui-tabs .ui-tabs-nav li{font-size:1.2em;list-style:none;float:left;position:relative;top:0;margin:1px .2em 0 0;border-bottom:0;padding:0;white-space:nowrap;}.ui-tabs .ui-tabs-nav li a{float:left;padding:3px 6px;text-decoration:none}.ui-tabs .ui-tabs-nav li.ui-tabs-active{margin-bottom:-1px;padding-bottom:6px}.ui-tabs .ui-tabs-nav li.ui-tabs-active a{cursor:text}.ui-tabs .ui-tabs-nav li a{cursor:pointer}.ui-tabs .ui-tabs-panel{display:block;border-width:0;padding:0;background:none}.ui-state-active a:link {color:#FFF;}\n",
       "@media only screen and (max-width: 26em) {.menunav ul li ul > li {width: 100%;}}\n",
       ".avisocook{display: none;position: fixed;left: 0;bottom: 0;width: 100%;min-height: 50px;background: #333;color: #DDD;z-index: 99999;}.aviso a {text-decoration:underline;color:#13B1E3;}\n",
       ".aviso{padding-left:1%;font-size:1.3em;line-height:1.5;padding:10px 6px;}@media only screen and (max-width: 30em) {.aviso{font-size:1.1em;}}\n",
       ".avisobut,.avisobut2{margin:6px;display:inline-block;}.avisobut a{padding:4px;background:#4682B4;text-decoration:none;color:#FFF;font-size:1.2em;}.avisobut2 a{padding:4px;background:#FFF;text-decoration:none;color:#000;font-size:1.1em;}.avshow {display:block;}.avnoshow {display:none !important;}\n",
       ".cse input.gsc-search-button, input.gsc-search-button {background: url('/imagenes/recursos/search-iconb.png') no-repeat;text-indent: -9999em;border: none;min-width: 0;height: 24px;width: 24px;}\n",
       "table.gsc-search-box td {height:24px;padding:0 4px;}.nfloat {float: none;}/*listasnav*/.lista_dwb{width:100%;position:relative;margin-bottom: 10px;}.lista_dwb{background-color:#D3E6F5;border: solid 1px #333;}.lista_dwb ul{margin-top:4px;padding:0 10px 10px;}.lista_dwb li{margin-bottom:10px;font-size:1.4em;list-style-type:disc;list-style-position:inside;margin-left:8px;}\n",
       ".lista_dwb li ul li {font-size:1em;}.lista_dwb li ul {margin-top:10px;padding-bottom:0;padding-left:20px;}.selector{margin-bottom:20px;}.nav-block,.nav-block2 {border:solid 1px #125B8A;padding:7px 0 12px;width:100%;background-color:#FFF;height:auto;}\n",
       ".nav-block li {padding:8px 12px;border-bottom:solid 1px #D9EAED;line-height:1.3;}.nav-block ul {margin-top: 10px;}.nav-block span {text-transform:uppercase;color:#ED174F;font-weight:700;font-family:'Roboto Condensed',Arial,Helvetica,Garuda,sans-serif;}\n",
       ".nav-block2 {border:none;margin:10px 0;}.nav-block2 ul {margin-top:8px;}.nav-block2 li {line-height:1.286;font-weight:bold;padding:2px 8px;}.nav-block2 ul {margin-top: 10px;}.nav-block2 li span {font-weight:normal;padding-left:8px;}\n",
       ".h3nav {margin-top:0;text-transform:uppercase;color:#DDD;background-color:#1A5D8C;font:700 1.5em/1.25 'Roboto Condensed',Arial,Helvetica,Garuda,sans-serif;padding:4px 6px;margin:0 0 12px;}\n",
       ".nav-title {font:normal 2em/1.15 'Roboto Condensed',Arial, Helvetica,Garuda,sans-serif;text-transform:uppercase;width:100%;background-color:#000;color:#FFF;padding-left:10px;margin:8px 0;box-sizing:border-box;-webkit-box-sizing: border-box;-moz-box-sizing: border-box;}\n",
       ".nube li {display:inline-block;padding: 3px 6px;color:#125B8A;border:none;font-weight:normal;line-height:1.5;}\n",
       ".news-block h3, .news-block h2, .nav-block h3, .nav-block2 h2,.nav-block h2 {display:block;margin-top:6px;text-transform:uppercase;color:#DDD;background-color:#1A5D8C;font:700 1.5em/1.25 'Roboto Condensed',Arial,Helvetica,Garuda,sans-serif;padding:2px 6px 0;}\n",
       ".news-block h2{margin-top:0;padding:4px 6px;}.lista_dwb h3,.lista_dwb h2{color:#333;font-size:1.5em;font-weight:700;text-transform:uppercase;padding:6px;font-family:'Roboto Condensed',Arial,Helvetica,Garuda,sans-serif;}/*hmob*/@media only screen and (max-width: 29em) {.hmob,.hmob2, .hmob h3{text-align:left;border:none;padding:12px 12px 12px 6px;color:#1A5D8C;background-color:#FFF;text-transform:none;height:auto;font-weight:bold;position:relative;font-size:2em;}\n",
       ".hmob:after,.hmob2:after{content:'\\25BC';position:absolute;right:6px;top:20%;font-size:1.2em;} .clicked:after {content:'\\25B2';}.nav-block2 .hmob{color:#1A5D8C;background-color:#FFF;text-transform:none;}\n",
       ".mainnot h1 {font-size:2.4em;}.h2not {font-size:1.5em;}.firman a {margin-top:6px;clear:both;}.news-block .hmob, .nav-block2 .hmob, .nav-block .hmob,.jugnot .hmob {font-size:1.8em;line-height:1.15;margin-top:0;padding: 12px 12px 12px 6px;}\n",
       ".hmob th {padding:0;}tbody .h2tbl {font-size:inherit;}.min125 {min-height:initial;}.arrow:after {margin-top:-12px;}.arrow span {color:#999;}.hmob:before {content:\"\";border:none;}.h2jugn, .h2jugg {margin-top:0;}\n",
       ".h2fequ,.h3five, .h2bsc, .blkjug .hmob, .blkjug2 .hmob, .jugsal .hmob, .sepest .hmob,.sepest2 .hmob,.bm .hmob, table .hmob2 {font-size:1.8em;}\n",
       ".hlist {margin:0;}.bordered,.coltbl li{border-top:solid 2px #1A5D8C;border-bottom:solid 2px #1A5D8C;padding:2px;margin:8px 0;}.clicked {color:#FFF;background-color:#1A5D8C;margin-bottom:10px;}}.inactive {display:none;width:100%;}\n",
       "          </style>\n",
       "<link href=\"/imagenes/sprites/icon-iphone.png\" rel=\"apple-touch-icon\"/><link href=\"/imagenes/sprites/icon-ipad.png\" rel=\"apple-touch-icon\" sizes=\"72x72\"/><link href=\"/imagenes/sprites/icon-iphone4.png\" rel=\"apple-touch-icon\" sizes=\"114x114\"/><link href=\"/imagenes/sprites/icon-ipad-hr.png\" rel=\"apple-touch-icon\" sizes=\"144x144\"/><link href=\"/imagenes/sprites/icon-iphone6-plus.png\" rel=\"apple-touch-icon\" sizes=\"180x180\"/><link href=\"/imagenes/sprites/icon-iphone6.png\" rel=\"apple-touch-icon\" sizes=\"120x120\"/><link href=\"/imagenes/sprites/icon-ipad-pro.png\" rel=\"apple-touch-icon\" sizes=\"167x167\"/><link href=\"/imagenes/sprites/icon-ipad-mini.png\" rel=\"apple-touch-icon\" sizes=\"152x152\"/><meta content=\"HispanosNBA\" name=\"apple-mobile-web-app-title\"/><meta content=\"index, follow\" id=\"metarob\" name=\"robots\"/><meta content=\"width=device-width, initial-scale=1.0, minimum-scale=1.0\" name=\"viewport\"/><meta content=\"Hispanosnba.com\" name=\"author\"/><meta content=\"FjzgW6rctuTN+PgXvj+q/n5efmFgpH/T6+u+3/wPFW0=\" name=\"verify-v1\"/><meta content=\"hispanosnba.com\" property=\"og:site_name\"/><meta content=\"article\" property=\"og:type\"/><meta content=\"Jugadores NBA activos cuyo apellido empieza por A\" property=\"og:title\"/><meta content=\"Lista de jugadores en activo en la NBA en la actual temporada cuyo apellido empieza por la letra A. Ficha completa: datos personales, estadísticas y noticias.\" property=\"og:description\"/><meta content=\"https://www.hispanosnba.com/jugadores/nba-activos/a\" property=\"og:url\"/><meta content=\"https://www.facebook.com/hispanosnba\" property=\"article:publisher\"/><meta content=\"741397309\" property=\"fb:admins\"/><meta content=\"1604373963192446\" property=\"fb:app_id\"/><meta content=\"summary\" name=\"twitter:card\"/><meta content=\"@hispanosnba\" name=\"twitter:site\"/><meta content=\"Jugadores NBA activos cuyo apellido empieza por A\" name=\"twitter:title\"/><meta content=\"Lista de jugadores en activo en la NBA en la actual temporada cuyo apellido empieza por la letra A. Ficha completa: datos personales, estadísticas y noticias.\" name=\"twitter:description\"/><meta content=\"@hispanosnba\" name=\"twitter:creator\"/><meta content=\"https://www.hispanosnba.com/jugadores/nba-activos/a\" name=\"twitter:url\"/><meta content=\"HispanosNBA.com\" name=\"twitter:domain\"/><script type=\"application/ld+json\">{\"@context\":\"https:\\/\\/schema.org\",\"@type\":\"Organization\",\"url\":\"https:\\/\\/www.hispanosnba.com\",\"sameAs\":[\"https:\\/\\/www.facebook.com\\/hispanosnba\",\"\",\"https:\\/\\/twitter.com\\/hispanosnba\"],\"id\":\"#organization\",\"name\":\"hispanosnba.com\",\"logo\":\"https:\\/\\/www.hispanosnba.com\\/imagenes\\/recursos\\/logo_mu.png\"}</script><script type=\"application/ld+json\">{\"@context\":\"https:\\/\\/schema.org\",\"@type\":\"WebSite\",\"id\":\"#website\",\"url\":\"https:\\/\\/www.hispanosnba.com\",\"name\":\"HispanosNBA.com: Noticias y estad\\u00edsticas de la NBA\",\"alternateName\":\"Noticias y estad\\u00edsticas de la NBA\"}</script><script type=\"application/ld+json\">{\"@context\":\"https:\\/\\/schema.org\",\"@type\":\"WebPage\",\"mainEntityOfPage\":\"https:\\/\\/www.hispanosnba.com\\/jugadores\\/nba-activos\\/a\",\"headline\":\"Jugadores NBA activos cuyo apellido empieza por A\",\"description\":\"Lista de jugadores en activo en la NBA en la actual temporada cuyo apellido empieza por la letra A. Ficha completa: datos personales, estad&#237;sticas y noticias.\"}</script><script async=\"\" src=\"https://securepubads.g.doubleclick.net/tag/js/gpt.js\"></script><script>window.googletag = window.googletag || {cmd: []};</script><script>googletag.cmd.push(function() {var mapTop=googletag.sizeMapping().addSize([970,200],[970,90]).addSize([832,200],[728,90]).addSize([1,1],[]).build();var mapTopB=googletag.sizeMapping().addSize([832,200],[]).addSize([728,200],[728,90]).addSize([1,1],[300,250]).build();var mapMain=googletag.sizeMapping().addSize([832,200],[]).addSize([728,200],[728,90]).addSize([336,200],[336,280]).addSize([1,1],[300,250]).build();var mapMainB=googletag.sizeMapping().addSize([832,200],[300,250]).addSize([336,200],[336,280]).addSize([1,1],[300,250]).build();var mapMainC=googletag.sizeMapping().addSize([336,200],[300,250]).addSize([1,1],[300,250]).build();var mapSide=googletag.sizeMapping().addSize([950,200],[300,250]).addSize([832,200],[160,600]).addSize([1,1],[300,250]).build();var mapSideB=googletag.sizeMapping().addSize([950,200],[300,600]).addSize([832,200],[120,600]).addSize([1,1],[]).build();var mapBottom=googletag.sizeMapping().addSize([832,200],[]).addSize([728,200],[728,90]).addSize([336,200],[336,280]).addSize([1,1],[300,250]).build();var mapSideC=googletag.sizeMapping().addSize([480,200],[250,250]).addSize([1,1],[300,250]).build();var mapTopH=googletag.sizeMapping().addSize([970,200],[970,90]).addSize([728,200],[728,90]).addSize([1,1],[320,100]).build();var mapMainD=googletag.sizeMapping().addSize([480,200],[300,250]).addSize([1,1],[320,50]).build();var mapTopH2=googletag.sizeMapping().addSize([970,200],[970,250]).addSize([728,200],[728,90]).addSize([1,1],[]).build();var mapTopC=googletag.sizeMapping().addSize([970,200],[970,90]).addSize([728,200],[728,90]).addSize([480,200],[468,60]).addSize([1,1],[300,50]).build();googletag.defineSlot('/18437687/mainbody', [300,250], 'ad-slot-0').defineSizeMapping(mapMainC).addService(googletag.pubads());googletag.defineSlot('/18437687/mainbody2', [300,250], 'ad-slot-1').defineSizeMapping(mapMainD).addService(googletag.pubads());googletag.defineSlot('/18437687/salarios_300a', [300,250], 'ad-slot-2').defineSizeMapping(mapSide).addService(googletag.pubads());googletag.pubads().set('adsense_channel_ids', '7871804262');googletag.pubads().setTargeting('p','jul');googletag.pubads().setTargeting('t',['bkt','spo']);googletag.pubads().enableSingleRequest();googletag.pubads().collapseEmptyDivs();googletag.enableServices();});</script><!-- Global site tag (gtag.js) - Google Analytics --><script async=\"\" src=\"https://www.googletagmanager.com/gtag/js?id=UA-5252701-1\"></script><script>window.dataLayer = window.dataLayer || [];function gtag(){dataLayer.push(arguments);}gtag('js', new Date());gtag('config', 'UA-5252701-1', { 'anonymize_ip': true });gtag('config', 'UA-5252701-1');gtag('config', 'G-PMBRKERYGN');</script><link href=\"https://www.hispanosnba.com/jugadores/nba-activos/a\" rel=\"canonical\"/><link href=\"https://www.hispanosnba.com/amp/jugadores/nba-activos/a\" rel=\"amphtml\"/><link href=\"https://www.hispanosnba.com/jugadores/nba-activos/a\" hreflang=\"es\" rel=\"alternate\"/><link href=\"https://en.hispanosnba.com/players/nba-active/a\" hreflang=\"en\" rel=\"alternate\"/><meta content=\"Lista de jugadores en activo en la NBA en la actual temporada cuyo apellido empieza por la letra A. Ficha completa: datos personales, estadísticas y noticias.\" name=\"description\"/></head>\n",
       "<body>\n",
       "<form action=\"/jugadores/nba-activos/a\" class=\"wrapper\" id=\"Form1\" method=\"post\">\n",
       "<div class=\"aspNetHidden\">\n",
       "<input id=\"__VIEWSTATE\" name=\"__VIEWSTATE\" type=\"hidden\" value=\"WPz6qSHf5EeG+XPMsDssqUPMGw77CMyPZj3Q5wv9nothvJhsxmRZO/uQv11xIe2gldw383yjLiRWD9H5noMiVMgVIouJ41b1FQd7brtH3EY=\"/>\n",
       "</div>\n",
       "<div class=\"aspNetHidden\">\n",
       "<input id=\"__VIEWSTATEGENERATOR\" name=\"__VIEWSTATEGENERATOR\" type=\"hidden\" value=\"68B534AA\"/>\n",
       "</div>\n",
       "<header class=\"header block\" id=\"mhead\">\n",
       "<div class=\"hbanner\"><a class=\"img-banner-amp\" href=\"/\" title=\"Hispanosnba.com\"></a>\n",
       "<div class=\"lnklanv tdw\" role=\"navigation\"><a href=\"https://en.hispanosnba.com/players/nba-active/a\" id=\"lnklan\" title=\"English\">English</a></div>\n",
       "<ul class=\"social\"><li><a class=\"img-icon24 img-facebook24\" href=\"https://www.facebook.com/hispanosnba\" title=\"Hispanosnba en Facebook\"></a></li><li><a class=\"img-icon24 img-twitter24\" href=\"https://www.twitter.com/hispanosnba\" title=\"Hispanosnba en Twitter\"></a></li>\n",
       "</ul>\n",
       "<div class=\"gsearch block\" role=\"search\"><script>(function() {var cx = '014068380958800975745:ces3ja7s3vi';var gcse = document.createElement('script');gcse.type = 'text/javascript';gcse.async = true;gcse.src = (document.location.protocol == 'https:' ? 'https:' : 'http:') +'//cse.google.com/cse.js?cx=' + cx;var s = document.getElementsByTagName('script')[0];s.parentNode.insertBefore(gcse, s);})();</script><div class=\"gcse-searchbox\"></div></div>\n",
       "</div>\n",
       "<nav class=\"menunav\" id=\"nav\"><a href=\"#\" id=\"pull\">Menú</a><ul><li><a href=\"/noticias\" title=\"Noticias NBA\">Noticias</a><ul><li><a href=\"/noticias/mercado\" title=\"Traspasos y contratos\">Mercado NBA</a><li><a href=\"/noticias/lesiones\" title=\"Lesiones y bajas\">Lesiones</a><li><a href=\"/noticias/partidos-nba\" title=\"Partidos NBA\">Partidos NBA</a><li><a href=\"/noticias/ncaa\" title=\"NCAA\">NCAA</a><li><a href=\"/noticias/archivo/index\" title=\"Archivo de noticias\">Archivo</a></li></li></li></li></li></ul><li><a href=\"/jugadores/index\" title=\"Jugadores NBA\">Jugadores</a><ul><li><a href=\"/jugadores/nba-todos/index\" title=\"Lista completa\">Lista completa</a><li><a href=\"/jugadores/nba-activos/index\" title=\"Actuales\">Jugadores activos</a><li><a href=\"/jugadores/salon-de-la-fama/index\" title=\"Jugadores en el Salón de la Fama\">Salón de la Fama</a><li><a href=\"/jugadores/nba-hispanos/index\" title=\"Jugadores hispanos\">Hispanos</a><li><a href=\"/jugadores/nba-extranjeros/index\" title=\"Jugadores internacionales\">Internacionales</a><li><a href=\"/jugadores/nba-novatos/index\" title=\"Jugadores novatos\">Novatos</a><li><a href=\"/prevision-draft\" title=\"Previsión del draft 2022\">Draft 2022</a><li><a href=\"/entrenadores\" title=\"Entrenadores de la NBA\">Entrenadores</a></li></li></li></li></li></li></li></li></ul><li><a href=\"/equipos\" title=\"Equipos\">Equipos</a><ul><li><span class=\"imgr-team imgr-atlanta-hawks\"></span><a href=\"/equipos/atlanta-hawks\" title=\"Atlanta Hawks\">Atlanta Hawks</a><li><span class=\"imgr-team imgr-boston-celtics\"></span><a href=\"/equipos/boston-celtics\" title=\"Boston Celtics\">Boston Celtics</a><li><span class=\"imgr-team imgr-brooklyn-nets\"></span><a href=\"/equipos/brooklyn-nets\" title=\"Brooklyn Nets\">Brooklyn Nets</a><li><span class=\"imgr-team imgr-charlotte-hornets\"></span><a href=\"/equipos/charlotte-hornets\" title=\"Charlotte Hornets\">Charlotte Hornets</a><li><span class=\"imgr-team imgr-chicago-bulls\"></span><a href=\"/equipos/chicago-bulls\" title=\"Chicago Bulls\">Chicago Bulls</a><li><span class=\"imgr-team imgr-cleveland-cavaliers\"></span><a href=\"/equipos/cleveland-cavaliers\" title=\"Cleveland Cavaliers\">Cleveland Cavaliers</a><li><span class=\"imgr-team imgr-dallas-mavericks\"></span><a href=\"/equipos/dallas-mavericks\" title=\"Dallas Mavericks\">Dallas Mavericks</a><li><span class=\"imgr-team imgr-denver-nuggets\"></span><a href=\"/equipos/denver-nuggets\" title=\"Denver Nuggets\">Denver Nuggets</a><li><span class=\"imgr-team imgr-detroit-pistons\"></span><a href=\"/equipos/detroit-pistons\" title=\"Detroit Pistons\">Detroit Pistons</a><li><span class=\"imgr-team imgr-golden-state-warriors\"></span><a href=\"/equipos/golden-state-warriors\" title=\"Golden State Warriors\">Golden State Warriors</a><li><span class=\"imgr-team imgr-houston-rockets\"></span><a href=\"/equipos/houston-rockets\" title=\"Houston Rockets\">Houston Rockets</a><li><span class=\"imgr-team imgr-indiana-pacers\"></span><a href=\"/equipos/indiana-pacers\" title=\"Indiana Pacers\">Indiana Pacers</a><li><span class=\"imgr-team imgr-los-angeles-clippers\"></span><a href=\"/equipos/los-angeles-clippers\" title=\"Los Angeles Clippers\">Los Angeles Clippers</a><li><span class=\"imgr-team imgr-los-angeles-lakers\"></span><a href=\"/equipos/los-angeles-lakers\" title=\"Los Angeles Lakers\">Los Angeles Lakers</a><li><span class=\"imgr-team imgr-memphis-grizzlies\"></span><a href=\"/equipos/memphis-grizzlies\" title=\"Memphis Grizzlies\">Memphis Grizzlies</a><li><span class=\"imgr-team imgr-miami-heat\"></span><a href=\"/equipos/miami-heat\" title=\"Miami Heat\">Miami Heat</a><li><span class=\"imgr-team imgr-milwaukee-bucks\"></span><a href=\"/equipos/milwaukee-bucks\" title=\"Milwaukee Bucks\">Milwaukee Bucks</a><li><span class=\"imgr-team imgr-minnesota-timberwolves\"></span><a href=\"/equipos/minnesota-timberwolves\" title=\"Minnesota Timberwolves\">Minnesota Timberwolves</a><li><span class=\"imgr-team imgr-new-orleans-pelicans\"></span><a href=\"/equipos/new-orleans-pelicans\" title=\"New Orleans Pelicans\">New Orleans Pelicans</a><li><span class=\"imgr-team imgr-new-york-knicks\"></span><a href=\"/equipos/new-york-knicks\" title=\"New York Knicks\">New York Knicks</a><li><span class=\"imgr-team imgr-oklahoma-city-thunder\"></span><a href=\"/equipos/oklahoma-city-thunder\" title=\"Oklahoma City Thunder\">Oklahoma City Thunder</a><li><span class=\"imgr-team imgr-orlando-magic\"></span><a href=\"/equipos/orlando-magic\" title=\"Orlando Magic\">Orlando Magic</a><li><span class=\"imgr-team imgr-philadelphia-76ers\"></span><a href=\"/equipos/philadelphia-76ers\" title=\"Philadelphia 76ers\">Philadelphia 76ers</a><li><span class=\"imgr-team imgr-phoenix-suns\"></span><a href=\"/equipos/phoenix-suns\" title=\"Phoenix Suns\">Phoenix Suns</a><li><span class=\"imgr-team imgr-portland-trail-blazers\"></span><a href=\"/equipos/portland-trail-blazers\" title=\"Portland Trail Blazers\">Portland Trail Blazers</a><li><span class=\"imgr-team imgr-sacramento-kings\"></span><a href=\"/equipos/sacramento-kings\" title=\"Sacramento Kings\">Sacramento Kings</a><li><span class=\"imgr-team imgr-san-antonio-spurs\"></span><a href=\"/equipos/san-antonio-spurs\" title=\"San Antonio Spurs\">San Antonio Spurs</a><li><span class=\"imgr-team imgr-toronto-raptors\"></span><a href=\"/equipos/toronto-raptors\" title=\"Toronto Raptors\">Toronto Raptors</a><li><span class=\"imgr-team imgr-utah-jazz\"></span><a href=\"/equipos/utah-jazz\" title=\"Utah Jazz\">Utah Jazz</a><li><span class=\"imgr-team imgr-washington-wizards\"></span><a href=\"/equipos/washington-wizards\" title=\"Washington Wizards\">Washington Wizards</a><li><a href=\"/comparativa-equipos\" title=\"Datos comparados\">Datos comparados</a><li><a href=\"/estadios-nba\" title=\"Estadios de la NBA\">Estadios NBA</a></li></li></li></li></li></li></li></li></li></li></li></li></li></li></li></li></li></li></li></li></li></li></li></li></li></li></li></li></li></li></li></li></ul><li><a href=\"/ultimos-resultados\" title=\"Últimos resultados de la NBA\">Resultados</a><li><a href=\"/estadistica/jugadores/lideres\" title=\"Estadísticas\">Estadísticas</a><ul><li><a href=\"/estadistica/jugadores/novatos\" title=\"Mejores novatos\">Novatos</a><li><a href=\"/estadistica/jugadores/suplentes\" title=\"Mejores suplentes\">Suplentes</a><li><a href=\"/estadistica/jugadores/hispanos\" title=\"Mejores hispanos\">Hispanos</a><li><a href=\"/estadistica/jugadores/triples-dobles\" title=\"Líderes en triples-dobles\">Triples-dobles</a><li><a href=\"/estadistica/equipos/totales\" title=\"Estadísticas equipos 2021-22\">Equipos</a></li></li></li></li></li></ul><li><a href=\"/calendario\" title=\"Calendario NBA 2021-22\">Calendario</a><li><a href=\"/playoffs/2022\" title=\"Playoffs NBA 2022\">Playoffs 2022</a><ul><li><a href=\"/clasificacion-nba\" title=\"Clasificación NBA 2021-22\">Clasificación</a></li></ul><li><a href=\"/salarios/index\" title=\"Salarios\">Salarios</a><li><a href=\"/mercado-nba\" title=\"Fichajes y traspasos\">Mercado NBA</a><ul><li><a href=\"/mercado-nba/agentes-libres\" title=\"Agentes libres 2022\">Agentes libres</a><li><a href=\"/mercado-nba/contratos-no-garantizados\" title=\"Contratos no garantizados\">Contratos no garantizados</a><li><a href=\"/mercado-nba/contratos-duales\" title=\"Contratos duales en la NBA\">Contratos duales</a><li><a href=\"/mercado-nba/reglas\" title=\"Reglas del mercado NBA\">Reglas del mercado</a></li></li></li></li></ul><li><a href=\"/historia\" title=\"Historia NBA\">Historia</a><ul><li><a href=\"/historia/palmares\" title=\"Palmarés\">Palmarés</a><li><a href=\"/historia/draft/temporadas\" title=\"Historia del draft NBA\">Draft NBA</a><li><a href=\"/historia/temporadas-nba/index\" title=\"Temporadas NBA\">Temporadas</a><li><a href=\"/historia/estadistica/jugadores/lideres\" title=\"Líderes estadísticos\">Líderes históricos</a><li><a href=\"/historia/premios/mvp-nba\" title=\"Premios NBA\">Premios</a><li><a href=\"/historia/equipos/index\" title=\"Franquicias NBA\">Franquicias</a></li></li></li></li></li></li></ul></li></li></li></li></li></li></li></li></li></li></ul></nav>\n",
       "</header>\n",
       "<div class=\"topsep\"></div>\n",
       "<div class=\"main block\">\n",
       "<div class=\"block\" id=\"cse\" role=\"search\"><div class=\"gcse-searchresults\"></div></div>\n",
       "<nav class=\"sitepath block\"><span id=\"SiteMapPath1\"><a href=\"#SiteMapPath1_SkipLink\"><img alt=\"Omitir vínculos de navegación\" height=\"0\" src=\"/WebResource.axd?d=rKN1opQVoh180LaGjXZZkJhMIlshTNRfDVdEX4awyjO04MymWMGP1JwTWJlXmvViJYfvjBxNcEYwfF0JoiUn1Q2&amp;t=636042792074468324\" style=\"border-width:0px;\" width=\"0\"/></a><span><a href=\"/\" title=\"Inicio\">Inicio</a></span><span> &gt; </span><span><a href=\"/jugadores/index\" title=\"Jugadores NBA\">Jugadores</a></span><span> &gt; </span><span><a href=\"/jugadores/nba-activos/index\" title=\"Jugadores activos\">En activo</a></span><a id=\"SiteMapPath1_SkipLink\"></a></span></nav>\n",
       "<main class=\"content block\">\n",
       "<h1 class=\"h1sal\"><a href=\"/jugadores/nba-activos/index\" title=\"Jugadores en activo\">Jugadores actuales de la NBA</a> <span>Letra a</span></h1><p class=\"entrada\">Lista de jugadores cuyo apellido empieza por la letra A y que forman parte actualmente de la plantilla de alguno de los 30 equipos de la NBA.</p>\n",
       "<div class=\"gads\" role=\"marquee\"><div id=\"ad-slot-0\"><script>googletag.cmd.push(function() { googletag.display('ad-slot-0'); });</script></div></div>\n",
       "<table class=\"tblprm\"><thead class=\"tdhead\"><tr><th rowspan=\"2\" scope=\"col\">Nombre<th rowspan=\"2\">Pos.<th rowspan=\"2\">Alt.<th class=\"tdc\" colspan=\"3\">En la NBA<tr><th>Desde<th>Hasta<th>Temp.</th></th></th></tr></th></th></th></th></tr></thead><tbody><tr><th class=\"tdl\" scope=\"row\"><a href=\"/jugadores/precious-achiuwa\" title=\"Precious Achiuwa\">Precious Achiuwa</a><td>P/AP<td>2,03<td>2020<td>2022<td class=\"tdc\">2<tr class=\"tra\"><th class=\"tdl\" scope=\"row\"><a href=\"/jugadores/steven-adams\" title=\"Steven Adams\">Steven Adams</a><td>P<td>2,11<td>2013<td>2022<td class=\"tdc\">9<tr><th class=\"tdl\" scope=\"row\"><a href=\"/jugadores/bam-adebayo\" title=\"Bam Adebayo\">Bam Adebayo</a><td>P<td>2,06<td>2017<td>2022<td class=\"tdc\">5<tr class=\"tra\"><th class=\"tdl\" scope=\"row\"><a href=\"/jugadores/ochai-agbaji\" title=\"Ochai Agbaji\">Ochai Agbaji</a><td>ES<td>1,96<td>----<td>----<td class=\"tdc\">0<tr><th class=\"tdl\" scope=\"row\"><a href=\"/jugadores/santi-aldama\" title=\"Santi Aldama\">Santi Aldama</a><td>P/AP<td>2,11<td>2021<td>2022<td class=\"tdc\">1<tr class=\"tra\"><th class=\"tdl\" scope=\"row\"><a href=\"/jugadores/lamarcus-aldridge\" title=\"LaMarcus Aldridge\">LaMarcus Aldridge</a><td>P/AP<td>2,11<td>2006<td>2022<td class=\"tdc\">16<tr><th class=\"tdl\" scope=\"row\"><a href=\"/jugadores/nickeil-alexander-walker\" title=\"Nickeil Alexander-Walker\">Nickeil Alexander-Walker</a><td>ES/B<td>1,96<td>2019<td>2022<td class=\"tdc\">3<tr class=\"tra\"><th class=\"tdl\" scope=\"row\"><a href=\"/jugadores/grayson-allen\" title=\"Grayson Allen\">Grayson Allen</a><td>ES/AL<td>1,93<td>2018<td>2022<td class=\"tdc\">4<tr><th class=\"tdl\" scope=\"row\"><a href=\"/jugadores/jarrett-allen\" title=\"Jarrett Allen\">Jarrett Allen</a><td>P<td>2,11<td>2017<td>2022<td class=\"tdc\">5<tr class=\"tra\"><th class=\"tdl\" scope=\"row\"><a href=\"/jugadores/jose-alvarado\" title=\"Jose Alvarado\">Jose Alvarado</a><td>B<td>1,83<td>2021<td>2022<td class=\"tdc\">1<tr><th class=\"tdl\" scope=\"row\"><a href=\"/jugadores/kyle-anderson\" title=\"Kyle Anderson\">Kyle Anderson</a><td>AP/AL<td>2,04<td>2014<td>2022<td class=\"tdc\">8<tr class=\"tra\"><th class=\"tdl\" scope=\"row\"><a href=\"/jugadores/giannis-antetokounmpo\" title=\"Giannis Antetokounmpo\">Giannis Antetokounmpo</a><td>AP<td>2,11<td>2013<td>2022<td class=\"tdc\">9<tr><th class=\"tdl\" scope=\"row\"><a href=\"/jugadores/thanasis-antetokounmpo\" title=\"Thanasis Antetokounmpo\">Thanasis Antetokounmpo</a><td>AP/AL<td>1,98<td>2015<td>2022<td class=\"tdc\">4<tr class=\"tra\"><th class=\"tdl\" scope=\"row\"><a href=\"/jugadores/carmelo-anthony\" title=\"Carmelo Anthony\">Carmelo Anthony</a><td>AP/P<td>2,03<td>2003<td>2022<td class=\"tdc\">19<tr><th class=\"tdl\" scope=\"row\"><a href=\"/jugadores/cole-anthony\" title=\"Cole Anthony\">Cole Anthony</a><td>B<td>1,91<td>2020<td>2022<td class=\"tdc\">2<tr class=\"tra\"><th class=\"tdl\" scope=\"row\"><a href=\"/jugadores/og-anunoby\" title=\"OG Anunoby\">OG Anunoby</a><td>AL/ES<td>2,01<td>2017<td>2022<td class=\"tdc\">5<tr><th class=\"tdl\" scope=\"row\"><a href=\"/jugadores/ryan-arcidiacono\" title=\"Ryan Arcidiacono\">Ryan Arcidiacono</a><td>ES/B<td>1,91<td>2017<td>2022<td class=\"tdc\">5<tr class=\"tra\"><th class=\"tdl\" scope=\"row\"><a href=\"/jugadores/dj-augustin\" title=\"D.J. Augustin\">D.J. Augustin</a><td>B<td>1,80<td>2008<td>2022<td class=\"tdc\">14<tr><th class=\"tdl\" scope=\"row\"><a href=\"/jugadores/deni-avdija\" title=\"Deni Avdija\">Deni Avdija</a><td>AL/AP<td>2,05<td>2020<td>2022<td class=\"tdc\">2<tr class=\"tra\"><th class=\"tdl\" scope=\"row\"><a href=\"/jugadores/deandre-ayton\" title=\"Deandre Ayton\">Deandre Ayton</a><td>P<td>2,11<td>2018<td>2022<td class=\"tdc\">4<tr><th class=\"tdl\" scope=\"row\"><a href=\"/jugadores/udoka-azubuike\" title=\"Udoka Azubuike\">Udoka Azubuike</a><td>P<td>2,13<td>2020<td>2022<td class=\"tdc\">2</td></td></td></td></td></th></tr></td></td></td></td></td></th></tr></td></td></td></td></td></th></tr></td></td></td></td></td></th></tr></td></td></td></td></td></th></tr></td></td></td></td></td></th></tr></td></td></td></td></td></th></tr></td></td></td></td></td></th></tr></td></td></td></td></td></th></tr></td></td></td></td></td></th></tr></td></td></td></td></td></th></tr></td></td></td></td></td></th></tr></td></td></td></td></td></th></tr></td></td></td></td></td></th></tr></td></td></td></td></td></th></tr></td></td></td></td></td></th></tr></td></td></td></td></td></th></tr></td></td></td></td></td></th></tr></td></td></td></td></td></th></tr></td></td></td></td></td></th></tr></td></td></td></td></td></th></tr></tbody></table>\n",
       "<div class=\"gads\" role=\"marquee\"><div id=\"ad-slot-1\"><script>googletag.cmd.push(function() { googletag.display('ad-slot-1'); });</script></div></div>\n",
       "</main>\n",
       "<aside class=\"sidebar\">\n",
       "<nav class=\"lista_dwb\"><h3>Información del mercado NBA</h3><ul class=\"nav-list\"><li><a href=\"/mercado-nba\" title=\"Movimientos del mercado\">Todos los movimientos del mercado</a><li><a href=\"/mercado-nba/agentes-libres\" title=\"Lista de agentes libres\">Lista de agentes libres</a><li><a href=\"/mercado-nba/contratos-no-garantizados\" title=\"Contratos no garantizados\">Contratos no garantizados</a><li><a href=\"/mercado-nba/contratos-duales\" title=\"Contratos duales\">Contratos duales</a><li><a href=\"/salarios/index\" title=\"Salarios de los equipos NBA\">Todos los salarios de los equipos NBA</a><li><a href=\"/mercado-nba/reglas\" title=\"Reglas del mercado NBA\">Reglas del mercado NBA</a></li></li></li></li></li></li></ul></nav>\n",
       "<div class=\"gads-d\" role=\"marquee\"><div id=\"ad-slot-2\"><script>googletag.cmd.push(function() { googletag.display('ad-slot-2'); });</script></div></div>\n",
       "<nav class=\"lista_dwb min125 block\"><h3>Más información de jugadores</h3><ul><li><a href=\"/estadistica/jugadores/lideres\" title=\"Estadísticas de la temporada\">Estadísticas 2021-22</a><li><a href=\"/historia/estadistica/jugadores/lideres\" title=\"Mejores jugadores de todos los tiempos\">Mejores jugadores de todos los tiempos</a><li><a href=\"/historia/premios/lideres-puntos-nba\" title=\"Máximos anotadores por temporada\">Máximos anotadores por temporada</a><li><a href=\"/historia/premios/mvp-nba\" title=\"MVP y otros premios NBA\">MVP y otros premios NBA</a><li><a href=\"/historia/draft/temporadas\" title=\"Draft NBA por temporadas\">Draft NBA por temporadas</a></li></li></li></li></li></ul></nav>\n",
       "<div class=\"block\" id=\"pannot\">\n",
       "<h2 class=\"nav-title\">Noticias NBA</h2>\n",
       "<div id=\"tabsn\">\n",
       "<ul>\n",
       "<li><a href=\"#tabsn1\">ÚLTIMAS NOTICIAS</a></li>\n",
       "<li><a href=\"#tabsn2\">LO MÁS LEÍDO</a></li>\n",
       "</ul>\n",
       "<div class=\"news-block-nb block\" id=\"tabsn1\">\n",
       "<ul class=\"news-list block\"><li class=\"nlmin\"><img alt=\"Deandre Ayton hace un mate\" height=\"86\" src=\"/0image/112/deandre-ayton-suns-340422.jpg\" width=\"112\"/><p><a href=\"/noticias/2022/07/12/pacers-aparece-horizonte-agente-restringido-deandre-ayton\" title=\"Pacers aparece en el horizonte del agente restringido Deandre Ayton\">Pacers aparece en el horizonte del agente restringido Deandre Ayton</a><li class=\"nlmin\"><img alt=\"Logo de la NBA en una canasta\" height=\"86\" src=\"/0image/112/nba-logo-cesta-115319.jpg\" width=\"112\"/><p><a href=\"/noticias/2022/07/12/nba-aprobara-inclusion-permanente-play-in-calendario\" title=\"La NBA aprobará la inclusión permanente del play-in en el calendario\">La NBA aprobará la inclusión permanente del play-in en el calendario</a><li class=\"nlmin\"><img alt=\"Luca Vildoza jugando con Bucks\" height=\"86\" src=\"/0image/112/luca-vildoza-2-783149.jpg\" width=\"112\"/><p><a href=\"/noticias/2022/07/10/bucks-repesca-argentino-vildoza-contrato-pretemporada\" title=\"Bucks repesca al argentino Vildoza con un contrato de pretemporada\">Bucks repesca al argentino Vildoza con un contrato de pretemporada</a><li class=\"nlmin\"><img alt=\"Damian Lillard con cinta negra\" height=\"86\" src=\"/0image/112/damian-lillard-blazers-3-403060.jpg\" width=\"112\"/><p><a href=\"/noticias/2022/07/09/extension-lillard-blazers-120-millones-2-temporadas\" title=\"Extensión de Lillard con Blazers de 120 millones por 2 temporadas\">Extensión de Lillard con Blazers de 120 millones por 2 temporadas</a></p></li></p></li></p></li></p></li></ul>\n",
       "</div>\n",
       "<div class=\"news-block-nb block\" id=\"tabsn2\">\n",
       "<ul class=\"news-list block\"><li class=\"nlmin\"><img alt=\"Thomas Bryant celebra con pasión en la cancha\" height=\"86\" src=\"/0image/112/thomas-bryant-wizards-213779.jpg\" width=\"112\"/><p><a href=\"/noticias/2022/07/06/pivot-thomas-bryant-firma-ano-lakers\" title=\"El pívot Thomas Bryant acuerda un año con Lakers\">El pívot Thomas Bryant acuerda un año con Lakers</a><li class=\"nlmin\"><img alt=\"Damian Lillard con cinta negra\" height=\"86\" src=\"/0image/112/damian-lillard-blazers-3-403060.jpg\" width=\"112\"/><p><a href=\"/noticias/2022/07/09/extension-lillard-blazers-120-millones-2-temporadas\" title=\"Extensión de Lillard con Blazers de 120 millones por 2 temporadas\">Extensión de Lillard con Blazers de 120 millones por 2 temporadas</a><li class=\"nlmin\"><img alt=\"Eric Gordon busca anotar bajo el aro\" height=\"86\" src=\"/0image/112/eric-gordon-rockets-321891.jpg\" width=\"112\"/><p><a href=\"/noticias/2022/07/08/sixers-suns-heat-bucks-lakers-expresan-interes-eric-gordon\" title=\"Sixers, Suns, Heat, Bucks y Lakers expresan interés por Eric Gordon\">Sixers, Suns, Heat, Bucks y Lakers expresan interés por Eric Gordon</a><li class=\"nlmin\"><img alt=\"James Harden jugando con Sixers\" height=\"86\" src=\"/0image/112/james-harden-sixers-880402.jpg\" width=\"112\"/><p><a href=\"/noticias/2022/07/09/harden-firmara-sixers-contrato-67-millones-2-temporadas\" title=\"Harden firmará con Sixers un contrato de 67 millones por 2 temporadas\">Harden firmará con Sixers un contrato de 67 millones por 2 temporadas</a></p></li></p></li></p></li></p></li></ul>\n",
       "</div>\n",
       "</div>\n",
       "<footer class=\"lfoot blue\"><a href=\"/noticias\" title=\"Noticias NBA\">+más noticias</a></footer>\n",
       "</div>\n",
       "</aside>\n",
       "</div>\n",
       "<footer class=\"footer block\">\n",
       "<div class=\"block\"><div class=\"three-1\"><h3><a id=\"footmenu\">Secciones</a></h3><ul class=\"half-1\"><li><a href=\"/noticias\">Noticias</a><li><a href=\"/equipos\">Equipos</a><li><a href=\"/jugadores/index\">Jugadores</a><li><a href=\"/estadistica/jugadores/lideres\">Estadísticas</a><li><a href=\"/historia\">Historia</a></li></li></li></li></li></ul><ul class=\"half-2\"><li><a href=\"/mercado-nba\">Mercado NBA</a><li><a href=\"/salarios/index\">Salarios</a><li><a href=\"/ultimos-resultados\">Resultados</a><li><a href=\"/calendario\">Calendario</a><li><a href=\"/clasificacion-nba\">Clasificación</a></li></li></li></li></li></ul></div><div class=\"three-2\"><h3>Síguenos</h3><ul><li><a href=\"https://www.twitter.com/hispanosnba\">Twitter</a><li><a href=\"https://www.facebook.com/hispanosnba\">Facebook</a><li><a href=\"https://www.hispanosnba.com/titulares\">RSS</a></li></li></li></ul></div><div class=\"three-3\"><h3>Hispanosnba.com</h3><ul><li><a href=\"/contacto\">Contacta con nosotros</a><li><a class=\"tdn\" href=\"/publicidad\">Publicidad</a><li><a href=\"/aviso-legal\">Aviso legal</a><li><a href=\"/condiciones-uso\">Condiciones de Uso</a><li><a href=\"/mapa\">Mapa del sitio</a></li></li></li></li></li></ul></div></div>\n",
       "<p class=\"piepagina\">© Muscal Mediacom, S.L. 2008-2022. Algunos derechos reservados. Lee nuestras <a href=\"/condiciones-uso\" title=\"Condiciones de uso\">Condiciones de Uso</a>. Sitio no afiliado a la NBA.</p>\n",
       "</footer>\n",
       "<script defer=\"\" src=\"https://ajax.googleapis.com/ajax/libs/jquery/3.2.1/jquery.min.js\"></script><script defer=\"\" src=\"https://ajax.googleapis.com/ajax/libs/jqueryui/1.12.1/jquery-ui.min.js\"></script>\n",
       "<script defer=\"\" src=\"/JavaScript/menupanels.js\"></script>\n",
       "<div class=\"avisocook\" id=\"avisocookies\"><div class=\"aviso\">Este sitio web utiliza cookies propias y de terceros para mejorar la experiencia de usuario y mostrar publicidad personalizada según su navegación. Si continua navegando, consideramos que acepta nuestra política de cookies.\n",
       "<span class=\"avisobut\"><a href=\"javascript:void(0);\" onclick=\"PonerCookie();\"><strong>Aceptar</strong></a></span><span class=\"avisobut2\"><a href=\"/aviso-legal#cookies\" target=\"_blank\">Configurar</a></span></div></div>\n",
       "<script>function getCookie(c_name){var c_value = document.cookie;var c_start = c_value.indexOf(\" \" + c_name + \"=\");if (c_start == -1){c_start = c_value.indexOf(c_name + \"=\");}if (c_start == -1){c_value = null;}else{c_start = c_value.indexOf(\"=\", c_start) + 1;var c_end = c_value.indexOf(\";\", c_start);if (c_end == -1){c_end = c_value.length;}c_value = unescape(c_value.substring(c_start,c_end));}return c_value;}\n",
       "function setCookie(c_name,value,exdays){var exdate=new Date();exdate.setDate(exdate.getDate() + exdays);var c_value=escape(value) + ((exdays==null) ? \"\" : \"; expires=\"+exdate.toUTCString());document.cookie=c_name + \"=\" + c_value;}if(getCookie('aviso')!=\"1\"){document.getElementById(\"avisocookies\").className += ' avshow';}\n",
       "function PonerCookie(){setCookie('aviso','1',365);document.getElementById(\"avisocookies\").className += ' avnoshow';}</script>\n",
       "<script defer=\"\" src=\"/JavaScript/tabsn0.js\"></script></form>\n",
       "</body>\n",
       "</html>"
      ]
     },
     "execution_count": 43,
     "metadata": {},
     "output_type": "execute_result"
    }
   ],
   "source": [
    "sopa_nba"
   ]
  },
  {
   "cell_type": "code",
   "execution_count": 44,
   "metadata": {},
   "outputs": [
    {
     "data": {
      "text/plain": [
       "bs4.BeautifulSoup"
      ]
     },
     "execution_count": 44,
     "metadata": {},
     "output_type": "execute_result"
    }
   ],
   "source": [
    "type(sopa_nba) #Objeto BeautifulSoup"
   ]
  },
  {
   "cell_type": "code",
   "execution_count": 50,
   "metadata": {},
   "outputs": [],
   "source": [
    "altura = sopa_nba.find_all('td')"
   ]
  },
  {
   "cell_type": "code",
   "execution_count": 52,
   "metadata": {},
   "outputs": [
    {
     "data": {
      "text/plain": [
       "105"
      ]
     },
     "execution_count": 52,
     "metadata": {},
     "output_type": "execute_result"
    }
   ],
   "source": [
    "len(altura)"
   ]
  },
  {
   "cell_type": "code",
   "execution_count": 55,
   "metadata": {},
   "outputs": [],
   "source": [
    "resultado_jugadores = {'jugador': [],\n",
    "                        'imagen': [],\n",
    "                        'altura': [],\n",
    "                        'peso': [],\n",
    "                        'experiencia':[],\n",
    "                        'pais': []}"
   ]
  },
  {
   "cell_type": "code",
   "execution_count": 56,
   "metadata": {},
   "outputs": [
    {
     "data": {
      "text/plain": [
       "{'jugador': [],\n",
       " 'imagen': [],\n",
       " 'altura': ['P/AP2,03202020222Steven AdamsP2,11201320229Bam AdebayoP2,06201720225Ochai AgbajiES1,96--------0Santi AldamaP/AP2,11202120221LaMarcus AldridgeP/AP2,112006202216Nickeil Alexander-WalkerES/B1,96201920223Grayson AllenES/AL1,93201820224Jarrett AllenP2,11201720225Jose AlvaradoB1,83202120221Kyle AndersonAP/AL2,04201420228Giannis AntetokounmpoAP2,11201320229Thanasis AntetokounmpoAP/AL1,98201520224Carmelo AnthonyAP/P2,032003202219Cole AnthonyB1,91202020222OG AnunobyAL/ES2,01201720225Ryan ArcidiaconoES/B1,91201720225D.J. AugustinB1,802008202214Deni AvdijaAL/AP2,05202020222Deandre AytonP2,11201820224Udoka AzubuikeP2,13202020222',\n",
       "  '2,03202020222Steven AdamsP2,11201320229Bam AdebayoP2,06201720225Ochai AgbajiES1,96--------0Santi AldamaP/AP2,11202120221LaMarcus AldridgeP/AP2,112006202216Nickeil Alexander-WalkerES/B1,96201920223Grayson AllenES/AL1,93201820224Jarrett AllenP2,11201720225Jose AlvaradoB1,83202120221Kyle AndersonAP/AL2,04201420228Giannis AntetokounmpoAP2,11201320229Thanasis AntetokounmpoAP/AL1,98201520224Carmelo AnthonyAP/P2,032003202219Cole AnthonyB1,91202020222OG AnunobyAL/ES2,01201720225Ryan ArcidiaconoES/B1,91201720225D.J. AugustinB1,802008202214Deni AvdijaAL/AP2,05202020222Deandre AytonP2,11201820224Udoka AzubuikeP2,13202020222',\n",
       "  '202020222Steven AdamsP2,11201320229Bam AdebayoP2,06201720225Ochai AgbajiES1,96--------0Santi AldamaP/AP2,11202120221LaMarcus AldridgeP/AP2,112006202216Nickeil Alexander-WalkerES/B1,96201920223Grayson AllenES/AL1,93201820224Jarrett AllenP2,11201720225Jose AlvaradoB1,83202120221Kyle AndersonAP/AL2,04201420228Giannis AntetokounmpoAP2,11201320229Thanasis AntetokounmpoAP/AL1,98201520224Carmelo AnthonyAP/P2,032003202219Cole AnthonyB1,91202020222OG AnunobyAL/ES2,01201720225Ryan ArcidiaconoES/B1,91201720225D.J. AugustinB1,802008202214Deni AvdijaAL/AP2,05202020222Deandre AytonP2,11201820224Udoka AzubuikeP2,13202020222',\n",
       "  '20222Steven AdamsP2,11201320229Bam AdebayoP2,06201720225Ochai AgbajiES1,96--------0Santi AldamaP/AP2,11202120221LaMarcus AldridgeP/AP2,112006202216Nickeil Alexander-WalkerES/B1,96201920223Grayson AllenES/AL1,93201820224Jarrett AllenP2,11201720225Jose AlvaradoB1,83202120221Kyle AndersonAP/AL2,04201420228Giannis AntetokounmpoAP2,11201320229Thanasis AntetokounmpoAP/AL1,98201520224Carmelo AnthonyAP/P2,032003202219Cole AnthonyB1,91202020222OG AnunobyAL/ES2,01201720225Ryan ArcidiaconoES/B1,91201720225D.J. AugustinB1,802008202214Deni AvdijaAL/AP2,05202020222Deandre AytonP2,11201820224Udoka AzubuikeP2,13202020222',\n",
       "  '2Steven AdamsP2,11201320229Bam AdebayoP2,06201720225Ochai AgbajiES1,96--------0Santi AldamaP/AP2,11202120221LaMarcus AldridgeP/AP2,112006202216Nickeil Alexander-WalkerES/B1,96201920223Grayson AllenES/AL1,93201820224Jarrett AllenP2,11201720225Jose AlvaradoB1,83202120221Kyle AndersonAP/AL2,04201420228Giannis AntetokounmpoAP2,11201320229Thanasis AntetokounmpoAP/AL1,98201520224Carmelo AnthonyAP/P2,032003202219Cole AnthonyB1,91202020222OG AnunobyAL/ES2,01201720225Ryan ArcidiaconoES/B1,91201720225D.J. AugustinB1,802008202214Deni AvdijaAL/AP2,05202020222Deandre AytonP2,11201820224Udoka AzubuikeP2,13202020222',\n",
       "  'P2,11201320229Bam AdebayoP2,06201720225Ochai AgbajiES1,96--------0Santi AldamaP/AP2,11202120221LaMarcus AldridgeP/AP2,112006202216Nickeil Alexander-WalkerES/B1,96201920223Grayson AllenES/AL1,93201820224Jarrett AllenP2,11201720225Jose AlvaradoB1,83202120221Kyle AndersonAP/AL2,04201420228Giannis AntetokounmpoAP2,11201320229Thanasis AntetokounmpoAP/AL1,98201520224Carmelo AnthonyAP/P2,032003202219Cole AnthonyB1,91202020222OG AnunobyAL/ES2,01201720225Ryan ArcidiaconoES/B1,91201720225D.J. AugustinB1,802008202214Deni AvdijaAL/AP2,05202020222Deandre AytonP2,11201820224Udoka AzubuikeP2,13202020222',\n",
       "  '2,11201320229Bam AdebayoP2,06201720225Ochai AgbajiES1,96--------0Santi AldamaP/AP2,11202120221LaMarcus AldridgeP/AP2,112006202216Nickeil Alexander-WalkerES/B1,96201920223Grayson AllenES/AL1,93201820224Jarrett AllenP2,11201720225Jose AlvaradoB1,83202120221Kyle AndersonAP/AL2,04201420228Giannis AntetokounmpoAP2,11201320229Thanasis AntetokounmpoAP/AL1,98201520224Carmelo AnthonyAP/P2,032003202219Cole AnthonyB1,91202020222OG AnunobyAL/ES2,01201720225Ryan ArcidiaconoES/B1,91201720225D.J. AugustinB1,802008202214Deni AvdijaAL/AP2,05202020222Deandre AytonP2,11201820224Udoka AzubuikeP2,13202020222',\n",
       "  '201320229Bam AdebayoP2,06201720225Ochai AgbajiES1,96--------0Santi AldamaP/AP2,11202120221LaMarcus AldridgeP/AP2,112006202216Nickeil Alexander-WalkerES/B1,96201920223Grayson AllenES/AL1,93201820224Jarrett AllenP2,11201720225Jose AlvaradoB1,83202120221Kyle AndersonAP/AL2,04201420228Giannis AntetokounmpoAP2,11201320229Thanasis AntetokounmpoAP/AL1,98201520224Carmelo AnthonyAP/P2,032003202219Cole AnthonyB1,91202020222OG AnunobyAL/ES2,01201720225Ryan ArcidiaconoES/B1,91201720225D.J. AugustinB1,802008202214Deni AvdijaAL/AP2,05202020222Deandre AytonP2,11201820224Udoka AzubuikeP2,13202020222',\n",
       "  '20229Bam AdebayoP2,06201720225Ochai AgbajiES1,96--------0Santi AldamaP/AP2,11202120221LaMarcus AldridgeP/AP2,112006202216Nickeil Alexander-WalkerES/B1,96201920223Grayson AllenES/AL1,93201820224Jarrett AllenP2,11201720225Jose AlvaradoB1,83202120221Kyle AndersonAP/AL2,04201420228Giannis AntetokounmpoAP2,11201320229Thanasis AntetokounmpoAP/AL1,98201520224Carmelo AnthonyAP/P2,032003202219Cole AnthonyB1,91202020222OG AnunobyAL/ES2,01201720225Ryan ArcidiaconoES/B1,91201720225D.J. AugustinB1,802008202214Deni AvdijaAL/AP2,05202020222Deandre AytonP2,11201820224Udoka AzubuikeP2,13202020222',\n",
       "  '9Bam AdebayoP2,06201720225Ochai AgbajiES1,96--------0Santi AldamaP/AP2,11202120221LaMarcus AldridgeP/AP2,112006202216Nickeil Alexander-WalkerES/B1,96201920223Grayson AllenES/AL1,93201820224Jarrett AllenP2,11201720225Jose AlvaradoB1,83202120221Kyle AndersonAP/AL2,04201420228Giannis AntetokounmpoAP2,11201320229Thanasis AntetokounmpoAP/AL1,98201520224Carmelo AnthonyAP/P2,032003202219Cole AnthonyB1,91202020222OG AnunobyAL/ES2,01201720225Ryan ArcidiaconoES/B1,91201720225D.J. AugustinB1,802008202214Deni AvdijaAL/AP2,05202020222Deandre AytonP2,11201820224Udoka AzubuikeP2,13202020222',\n",
       "  'P2,06201720225Ochai AgbajiES1,96--------0Santi AldamaP/AP2,11202120221LaMarcus AldridgeP/AP2,112006202216Nickeil Alexander-WalkerES/B1,96201920223Grayson AllenES/AL1,93201820224Jarrett AllenP2,11201720225Jose AlvaradoB1,83202120221Kyle AndersonAP/AL2,04201420228Giannis AntetokounmpoAP2,11201320229Thanasis AntetokounmpoAP/AL1,98201520224Carmelo AnthonyAP/P2,032003202219Cole AnthonyB1,91202020222OG AnunobyAL/ES2,01201720225Ryan ArcidiaconoES/B1,91201720225D.J. AugustinB1,802008202214Deni AvdijaAL/AP2,05202020222Deandre AytonP2,11201820224Udoka AzubuikeP2,13202020222',\n",
       "  '2,06201720225Ochai AgbajiES1,96--------0Santi AldamaP/AP2,11202120221LaMarcus AldridgeP/AP2,112006202216Nickeil Alexander-WalkerES/B1,96201920223Grayson AllenES/AL1,93201820224Jarrett AllenP2,11201720225Jose AlvaradoB1,83202120221Kyle AndersonAP/AL2,04201420228Giannis AntetokounmpoAP2,11201320229Thanasis AntetokounmpoAP/AL1,98201520224Carmelo AnthonyAP/P2,032003202219Cole AnthonyB1,91202020222OG AnunobyAL/ES2,01201720225Ryan ArcidiaconoES/B1,91201720225D.J. AugustinB1,802008202214Deni AvdijaAL/AP2,05202020222Deandre AytonP2,11201820224Udoka AzubuikeP2,13202020222',\n",
       "  '201720225Ochai AgbajiES1,96--------0Santi AldamaP/AP2,11202120221LaMarcus AldridgeP/AP2,112006202216Nickeil Alexander-WalkerES/B1,96201920223Grayson AllenES/AL1,93201820224Jarrett AllenP2,11201720225Jose AlvaradoB1,83202120221Kyle AndersonAP/AL2,04201420228Giannis AntetokounmpoAP2,11201320229Thanasis AntetokounmpoAP/AL1,98201520224Carmelo AnthonyAP/P2,032003202219Cole AnthonyB1,91202020222OG AnunobyAL/ES2,01201720225Ryan ArcidiaconoES/B1,91201720225D.J. AugustinB1,802008202214Deni AvdijaAL/AP2,05202020222Deandre AytonP2,11201820224Udoka AzubuikeP2,13202020222',\n",
       "  '20225Ochai AgbajiES1,96--------0Santi AldamaP/AP2,11202120221LaMarcus AldridgeP/AP2,112006202216Nickeil Alexander-WalkerES/B1,96201920223Grayson AllenES/AL1,93201820224Jarrett AllenP2,11201720225Jose AlvaradoB1,83202120221Kyle AndersonAP/AL2,04201420228Giannis AntetokounmpoAP2,11201320229Thanasis AntetokounmpoAP/AL1,98201520224Carmelo AnthonyAP/P2,032003202219Cole AnthonyB1,91202020222OG AnunobyAL/ES2,01201720225Ryan ArcidiaconoES/B1,91201720225D.J. AugustinB1,802008202214Deni AvdijaAL/AP2,05202020222Deandre AytonP2,11201820224Udoka AzubuikeP2,13202020222',\n",
       "  '5Ochai AgbajiES1,96--------0Santi AldamaP/AP2,11202120221LaMarcus AldridgeP/AP2,112006202216Nickeil Alexander-WalkerES/B1,96201920223Grayson AllenES/AL1,93201820224Jarrett AllenP2,11201720225Jose AlvaradoB1,83202120221Kyle AndersonAP/AL2,04201420228Giannis AntetokounmpoAP2,11201320229Thanasis AntetokounmpoAP/AL1,98201520224Carmelo AnthonyAP/P2,032003202219Cole AnthonyB1,91202020222OG AnunobyAL/ES2,01201720225Ryan ArcidiaconoES/B1,91201720225D.J. AugustinB1,802008202214Deni AvdijaAL/AP2,05202020222Deandre AytonP2,11201820224Udoka AzubuikeP2,13202020222',\n",
       "  'ES1,96--------0Santi AldamaP/AP2,11202120221LaMarcus AldridgeP/AP2,112006202216Nickeil Alexander-WalkerES/B1,96201920223Grayson AllenES/AL1,93201820224Jarrett AllenP2,11201720225Jose AlvaradoB1,83202120221Kyle AndersonAP/AL2,04201420228Giannis AntetokounmpoAP2,11201320229Thanasis AntetokounmpoAP/AL1,98201520224Carmelo AnthonyAP/P2,032003202219Cole AnthonyB1,91202020222OG AnunobyAL/ES2,01201720225Ryan ArcidiaconoES/B1,91201720225D.J. AugustinB1,802008202214Deni AvdijaAL/AP2,05202020222Deandre AytonP2,11201820224Udoka AzubuikeP2,13202020222',\n",
       "  '1,96--------0Santi AldamaP/AP2,11202120221LaMarcus AldridgeP/AP2,112006202216Nickeil Alexander-WalkerES/B1,96201920223Grayson AllenES/AL1,93201820224Jarrett AllenP2,11201720225Jose AlvaradoB1,83202120221Kyle AndersonAP/AL2,04201420228Giannis AntetokounmpoAP2,11201320229Thanasis AntetokounmpoAP/AL1,98201520224Carmelo AnthonyAP/P2,032003202219Cole AnthonyB1,91202020222OG AnunobyAL/ES2,01201720225Ryan ArcidiaconoES/B1,91201720225D.J. AugustinB1,802008202214Deni AvdijaAL/AP2,05202020222Deandre AytonP2,11201820224Udoka AzubuikeP2,13202020222',\n",
       "  '--------0Santi AldamaP/AP2,11202120221LaMarcus AldridgeP/AP2,112006202216Nickeil Alexander-WalkerES/B1,96201920223Grayson AllenES/AL1,93201820224Jarrett AllenP2,11201720225Jose AlvaradoB1,83202120221Kyle AndersonAP/AL2,04201420228Giannis AntetokounmpoAP2,11201320229Thanasis AntetokounmpoAP/AL1,98201520224Carmelo AnthonyAP/P2,032003202219Cole AnthonyB1,91202020222OG AnunobyAL/ES2,01201720225Ryan ArcidiaconoES/B1,91201720225D.J. AugustinB1,802008202214Deni AvdijaAL/AP2,05202020222Deandre AytonP2,11201820224Udoka AzubuikeP2,13202020222',\n",
       "  '----0Santi AldamaP/AP2,11202120221LaMarcus AldridgeP/AP2,112006202216Nickeil Alexander-WalkerES/B1,96201920223Grayson AllenES/AL1,93201820224Jarrett AllenP2,11201720225Jose AlvaradoB1,83202120221Kyle AndersonAP/AL2,04201420228Giannis AntetokounmpoAP2,11201320229Thanasis AntetokounmpoAP/AL1,98201520224Carmelo AnthonyAP/P2,032003202219Cole AnthonyB1,91202020222OG AnunobyAL/ES2,01201720225Ryan ArcidiaconoES/B1,91201720225D.J. AugustinB1,802008202214Deni AvdijaAL/AP2,05202020222Deandre AytonP2,11201820224Udoka AzubuikeP2,13202020222',\n",
       "  '0Santi AldamaP/AP2,11202120221LaMarcus AldridgeP/AP2,112006202216Nickeil Alexander-WalkerES/B1,96201920223Grayson AllenES/AL1,93201820224Jarrett AllenP2,11201720225Jose AlvaradoB1,83202120221Kyle AndersonAP/AL2,04201420228Giannis AntetokounmpoAP2,11201320229Thanasis AntetokounmpoAP/AL1,98201520224Carmelo AnthonyAP/P2,032003202219Cole AnthonyB1,91202020222OG AnunobyAL/ES2,01201720225Ryan ArcidiaconoES/B1,91201720225D.J. AugustinB1,802008202214Deni AvdijaAL/AP2,05202020222Deandre AytonP2,11201820224Udoka AzubuikeP2,13202020222',\n",
       "  'P/AP2,11202120221LaMarcus AldridgeP/AP2,112006202216Nickeil Alexander-WalkerES/B1,96201920223Grayson AllenES/AL1,93201820224Jarrett AllenP2,11201720225Jose AlvaradoB1,83202120221Kyle AndersonAP/AL2,04201420228Giannis AntetokounmpoAP2,11201320229Thanasis AntetokounmpoAP/AL1,98201520224Carmelo AnthonyAP/P2,032003202219Cole AnthonyB1,91202020222OG AnunobyAL/ES2,01201720225Ryan ArcidiaconoES/B1,91201720225D.J. AugustinB1,802008202214Deni AvdijaAL/AP2,05202020222Deandre AytonP2,11201820224Udoka AzubuikeP2,13202020222',\n",
       "  '2,11202120221LaMarcus AldridgeP/AP2,112006202216Nickeil Alexander-WalkerES/B1,96201920223Grayson AllenES/AL1,93201820224Jarrett AllenP2,11201720225Jose AlvaradoB1,83202120221Kyle AndersonAP/AL2,04201420228Giannis AntetokounmpoAP2,11201320229Thanasis AntetokounmpoAP/AL1,98201520224Carmelo AnthonyAP/P2,032003202219Cole AnthonyB1,91202020222OG AnunobyAL/ES2,01201720225Ryan ArcidiaconoES/B1,91201720225D.J. AugustinB1,802008202214Deni AvdijaAL/AP2,05202020222Deandre AytonP2,11201820224Udoka AzubuikeP2,13202020222',\n",
       "  '202120221LaMarcus AldridgeP/AP2,112006202216Nickeil Alexander-WalkerES/B1,96201920223Grayson AllenES/AL1,93201820224Jarrett AllenP2,11201720225Jose AlvaradoB1,83202120221Kyle AndersonAP/AL2,04201420228Giannis AntetokounmpoAP2,11201320229Thanasis AntetokounmpoAP/AL1,98201520224Carmelo AnthonyAP/P2,032003202219Cole AnthonyB1,91202020222OG AnunobyAL/ES2,01201720225Ryan ArcidiaconoES/B1,91201720225D.J. AugustinB1,802008202214Deni AvdijaAL/AP2,05202020222Deandre AytonP2,11201820224Udoka AzubuikeP2,13202020222',\n",
       "  '20221LaMarcus AldridgeP/AP2,112006202216Nickeil Alexander-WalkerES/B1,96201920223Grayson AllenES/AL1,93201820224Jarrett AllenP2,11201720225Jose AlvaradoB1,83202120221Kyle AndersonAP/AL2,04201420228Giannis AntetokounmpoAP2,11201320229Thanasis AntetokounmpoAP/AL1,98201520224Carmelo AnthonyAP/P2,032003202219Cole AnthonyB1,91202020222OG AnunobyAL/ES2,01201720225Ryan ArcidiaconoES/B1,91201720225D.J. AugustinB1,802008202214Deni AvdijaAL/AP2,05202020222Deandre AytonP2,11201820224Udoka AzubuikeP2,13202020222',\n",
       "  '1LaMarcus AldridgeP/AP2,112006202216Nickeil Alexander-WalkerES/B1,96201920223Grayson AllenES/AL1,93201820224Jarrett AllenP2,11201720225Jose AlvaradoB1,83202120221Kyle AndersonAP/AL2,04201420228Giannis AntetokounmpoAP2,11201320229Thanasis AntetokounmpoAP/AL1,98201520224Carmelo AnthonyAP/P2,032003202219Cole AnthonyB1,91202020222OG AnunobyAL/ES2,01201720225Ryan ArcidiaconoES/B1,91201720225D.J. AugustinB1,802008202214Deni AvdijaAL/AP2,05202020222Deandre AytonP2,11201820224Udoka AzubuikeP2,13202020222',\n",
       "  'P/AP2,112006202216Nickeil Alexander-WalkerES/B1,96201920223Grayson AllenES/AL1,93201820224Jarrett AllenP2,11201720225Jose AlvaradoB1,83202120221Kyle AndersonAP/AL2,04201420228Giannis AntetokounmpoAP2,11201320229Thanasis AntetokounmpoAP/AL1,98201520224Carmelo AnthonyAP/P2,032003202219Cole AnthonyB1,91202020222OG AnunobyAL/ES2,01201720225Ryan ArcidiaconoES/B1,91201720225D.J. AugustinB1,802008202214Deni AvdijaAL/AP2,05202020222Deandre AytonP2,11201820224Udoka AzubuikeP2,13202020222',\n",
       "  '2,112006202216Nickeil Alexander-WalkerES/B1,96201920223Grayson AllenES/AL1,93201820224Jarrett AllenP2,11201720225Jose AlvaradoB1,83202120221Kyle AndersonAP/AL2,04201420228Giannis AntetokounmpoAP2,11201320229Thanasis AntetokounmpoAP/AL1,98201520224Carmelo AnthonyAP/P2,032003202219Cole AnthonyB1,91202020222OG AnunobyAL/ES2,01201720225Ryan ArcidiaconoES/B1,91201720225D.J. AugustinB1,802008202214Deni AvdijaAL/AP2,05202020222Deandre AytonP2,11201820224Udoka AzubuikeP2,13202020222',\n",
       "  '2006202216Nickeil Alexander-WalkerES/B1,96201920223Grayson AllenES/AL1,93201820224Jarrett AllenP2,11201720225Jose AlvaradoB1,83202120221Kyle AndersonAP/AL2,04201420228Giannis AntetokounmpoAP2,11201320229Thanasis AntetokounmpoAP/AL1,98201520224Carmelo AnthonyAP/P2,032003202219Cole AnthonyB1,91202020222OG AnunobyAL/ES2,01201720225Ryan ArcidiaconoES/B1,91201720225D.J. AugustinB1,802008202214Deni AvdijaAL/AP2,05202020222Deandre AytonP2,11201820224Udoka AzubuikeP2,13202020222',\n",
       "  '202216Nickeil Alexander-WalkerES/B1,96201920223Grayson AllenES/AL1,93201820224Jarrett AllenP2,11201720225Jose AlvaradoB1,83202120221Kyle AndersonAP/AL2,04201420228Giannis AntetokounmpoAP2,11201320229Thanasis AntetokounmpoAP/AL1,98201520224Carmelo AnthonyAP/P2,032003202219Cole AnthonyB1,91202020222OG AnunobyAL/ES2,01201720225Ryan ArcidiaconoES/B1,91201720225D.J. AugustinB1,802008202214Deni AvdijaAL/AP2,05202020222Deandre AytonP2,11201820224Udoka AzubuikeP2,13202020222',\n",
       "  '16Nickeil Alexander-WalkerES/B1,96201920223Grayson AllenES/AL1,93201820224Jarrett AllenP2,11201720225Jose AlvaradoB1,83202120221Kyle AndersonAP/AL2,04201420228Giannis AntetokounmpoAP2,11201320229Thanasis AntetokounmpoAP/AL1,98201520224Carmelo AnthonyAP/P2,032003202219Cole AnthonyB1,91202020222OG AnunobyAL/ES2,01201720225Ryan ArcidiaconoES/B1,91201720225D.J. AugustinB1,802008202214Deni AvdijaAL/AP2,05202020222Deandre AytonP2,11201820224Udoka AzubuikeP2,13202020222',\n",
       "  'ES/B1,96201920223Grayson AllenES/AL1,93201820224Jarrett AllenP2,11201720225Jose AlvaradoB1,83202120221Kyle AndersonAP/AL2,04201420228Giannis AntetokounmpoAP2,11201320229Thanasis AntetokounmpoAP/AL1,98201520224Carmelo AnthonyAP/P2,032003202219Cole AnthonyB1,91202020222OG AnunobyAL/ES2,01201720225Ryan ArcidiaconoES/B1,91201720225D.J. AugustinB1,802008202214Deni AvdijaAL/AP2,05202020222Deandre AytonP2,11201820224Udoka AzubuikeP2,13202020222',\n",
       "  '1,96201920223Grayson AllenES/AL1,93201820224Jarrett AllenP2,11201720225Jose AlvaradoB1,83202120221Kyle AndersonAP/AL2,04201420228Giannis AntetokounmpoAP2,11201320229Thanasis AntetokounmpoAP/AL1,98201520224Carmelo AnthonyAP/P2,032003202219Cole AnthonyB1,91202020222OG AnunobyAL/ES2,01201720225Ryan ArcidiaconoES/B1,91201720225D.J. AugustinB1,802008202214Deni AvdijaAL/AP2,05202020222Deandre AytonP2,11201820224Udoka AzubuikeP2,13202020222',\n",
       "  '201920223Grayson AllenES/AL1,93201820224Jarrett AllenP2,11201720225Jose AlvaradoB1,83202120221Kyle AndersonAP/AL2,04201420228Giannis AntetokounmpoAP2,11201320229Thanasis AntetokounmpoAP/AL1,98201520224Carmelo AnthonyAP/P2,032003202219Cole AnthonyB1,91202020222OG AnunobyAL/ES2,01201720225Ryan ArcidiaconoES/B1,91201720225D.J. AugustinB1,802008202214Deni AvdijaAL/AP2,05202020222Deandre AytonP2,11201820224Udoka AzubuikeP2,13202020222',\n",
       "  '20223Grayson AllenES/AL1,93201820224Jarrett AllenP2,11201720225Jose AlvaradoB1,83202120221Kyle AndersonAP/AL2,04201420228Giannis AntetokounmpoAP2,11201320229Thanasis AntetokounmpoAP/AL1,98201520224Carmelo AnthonyAP/P2,032003202219Cole AnthonyB1,91202020222OG AnunobyAL/ES2,01201720225Ryan ArcidiaconoES/B1,91201720225D.J. AugustinB1,802008202214Deni AvdijaAL/AP2,05202020222Deandre AytonP2,11201820224Udoka AzubuikeP2,13202020222',\n",
       "  '3Grayson AllenES/AL1,93201820224Jarrett AllenP2,11201720225Jose AlvaradoB1,83202120221Kyle AndersonAP/AL2,04201420228Giannis AntetokounmpoAP2,11201320229Thanasis AntetokounmpoAP/AL1,98201520224Carmelo AnthonyAP/P2,032003202219Cole AnthonyB1,91202020222OG AnunobyAL/ES2,01201720225Ryan ArcidiaconoES/B1,91201720225D.J. AugustinB1,802008202214Deni AvdijaAL/AP2,05202020222Deandre AytonP2,11201820224Udoka AzubuikeP2,13202020222',\n",
       "  'ES/AL1,93201820224Jarrett AllenP2,11201720225Jose AlvaradoB1,83202120221Kyle AndersonAP/AL2,04201420228Giannis AntetokounmpoAP2,11201320229Thanasis AntetokounmpoAP/AL1,98201520224Carmelo AnthonyAP/P2,032003202219Cole AnthonyB1,91202020222OG AnunobyAL/ES2,01201720225Ryan ArcidiaconoES/B1,91201720225D.J. AugustinB1,802008202214Deni AvdijaAL/AP2,05202020222Deandre AytonP2,11201820224Udoka AzubuikeP2,13202020222',\n",
       "  '1,93201820224Jarrett AllenP2,11201720225Jose AlvaradoB1,83202120221Kyle AndersonAP/AL2,04201420228Giannis AntetokounmpoAP2,11201320229Thanasis AntetokounmpoAP/AL1,98201520224Carmelo AnthonyAP/P2,032003202219Cole AnthonyB1,91202020222OG AnunobyAL/ES2,01201720225Ryan ArcidiaconoES/B1,91201720225D.J. AugustinB1,802008202214Deni AvdijaAL/AP2,05202020222Deandre AytonP2,11201820224Udoka AzubuikeP2,13202020222',\n",
       "  '201820224Jarrett AllenP2,11201720225Jose AlvaradoB1,83202120221Kyle AndersonAP/AL2,04201420228Giannis AntetokounmpoAP2,11201320229Thanasis AntetokounmpoAP/AL1,98201520224Carmelo AnthonyAP/P2,032003202219Cole AnthonyB1,91202020222OG AnunobyAL/ES2,01201720225Ryan ArcidiaconoES/B1,91201720225D.J. AugustinB1,802008202214Deni AvdijaAL/AP2,05202020222Deandre AytonP2,11201820224Udoka AzubuikeP2,13202020222',\n",
       "  '20224Jarrett AllenP2,11201720225Jose AlvaradoB1,83202120221Kyle AndersonAP/AL2,04201420228Giannis AntetokounmpoAP2,11201320229Thanasis AntetokounmpoAP/AL1,98201520224Carmelo AnthonyAP/P2,032003202219Cole AnthonyB1,91202020222OG AnunobyAL/ES2,01201720225Ryan ArcidiaconoES/B1,91201720225D.J. AugustinB1,802008202214Deni AvdijaAL/AP2,05202020222Deandre AytonP2,11201820224Udoka AzubuikeP2,13202020222',\n",
       "  '4Jarrett AllenP2,11201720225Jose AlvaradoB1,83202120221Kyle AndersonAP/AL2,04201420228Giannis AntetokounmpoAP2,11201320229Thanasis AntetokounmpoAP/AL1,98201520224Carmelo AnthonyAP/P2,032003202219Cole AnthonyB1,91202020222OG AnunobyAL/ES2,01201720225Ryan ArcidiaconoES/B1,91201720225D.J. AugustinB1,802008202214Deni AvdijaAL/AP2,05202020222Deandre AytonP2,11201820224Udoka AzubuikeP2,13202020222',\n",
       "  'P2,11201720225Jose AlvaradoB1,83202120221Kyle AndersonAP/AL2,04201420228Giannis AntetokounmpoAP2,11201320229Thanasis AntetokounmpoAP/AL1,98201520224Carmelo AnthonyAP/P2,032003202219Cole AnthonyB1,91202020222OG AnunobyAL/ES2,01201720225Ryan ArcidiaconoES/B1,91201720225D.J. AugustinB1,802008202214Deni AvdijaAL/AP2,05202020222Deandre AytonP2,11201820224Udoka AzubuikeP2,13202020222',\n",
       "  '2,11201720225Jose AlvaradoB1,83202120221Kyle AndersonAP/AL2,04201420228Giannis AntetokounmpoAP2,11201320229Thanasis AntetokounmpoAP/AL1,98201520224Carmelo AnthonyAP/P2,032003202219Cole AnthonyB1,91202020222OG AnunobyAL/ES2,01201720225Ryan ArcidiaconoES/B1,91201720225D.J. AugustinB1,802008202214Deni AvdijaAL/AP2,05202020222Deandre AytonP2,11201820224Udoka AzubuikeP2,13202020222',\n",
       "  '201720225Jose AlvaradoB1,83202120221Kyle AndersonAP/AL2,04201420228Giannis AntetokounmpoAP2,11201320229Thanasis AntetokounmpoAP/AL1,98201520224Carmelo AnthonyAP/P2,032003202219Cole AnthonyB1,91202020222OG AnunobyAL/ES2,01201720225Ryan ArcidiaconoES/B1,91201720225D.J. AugustinB1,802008202214Deni AvdijaAL/AP2,05202020222Deandre AytonP2,11201820224Udoka AzubuikeP2,13202020222',\n",
       "  '20225Jose AlvaradoB1,83202120221Kyle AndersonAP/AL2,04201420228Giannis AntetokounmpoAP2,11201320229Thanasis AntetokounmpoAP/AL1,98201520224Carmelo AnthonyAP/P2,032003202219Cole AnthonyB1,91202020222OG AnunobyAL/ES2,01201720225Ryan ArcidiaconoES/B1,91201720225D.J. AugustinB1,802008202214Deni AvdijaAL/AP2,05202020222Deandre AytonP2,11201820224Udoka AzubuikeP2,13202020222',\n",
       "  '5Jose AlvaradoB1,83202120221Kyle AndersonAP/AL2,04201420228Giannis AntetokounmpoAP2,11201320229Thanasis AntetokounmpoAP/AL1,98201520224Carmelo AnthonyAP/P2,032003202219Cole AnthonyB1,91202020222OG AnunobyAL/ES2,01201720225Ryan ArcidiaconoES/B1,91201720225D.J. AugustinB1,802008202214Deni AvdijaAL/AP2,05202020222Deandre AytonP2,11201820224Udoka AzubuikeP2,13202020222',\n",
       "  'B1,83202120221Kyle AndersonAP/AL2,04201420228Giannis AntetokounmpoAP2,11201320229Thanasis AntetokounmpoAP/AL1,98201520224Carmelo AnthonyAP/P2,032003202219Cole AnthonyB1,91202020222OG AnunobyAL/ES2,01201720225Ryan ArcidiaconoES/B1,91201720225D.J. AugustinB1,802008202214Deni AvdijaAL/AP2,05202020222Deandre AytonP2,11201820224Udoka AzubuikeP2,13202020222',\n",
       "  '1,83202120221Kyle AndersonAP/AL2,04201420228Giannis AntetokounmpoAP2,11201320229Thanasis AntetokounmpoAP/AL1,98201520224Carmelo AnthonyAP/P2,032003202219Cole AnthonyB1,91202020222OG AnunobyAL/ES2,01201720225Ryan ArcidiaconoES/B1,91201720225D.J. AugustinB1,802008202214Deni AvdijaAL/AP2,05202020222Deandre AytonP2,11201820224Udoka AzubuikeP2,13202020222',\n",
       "  '202120221Kyle AndersonAP/AL2,04201420228Giannis AntetokounmpoAP2,11201320229Thanasis AntetokounmpoAP/AL1,98201520224Carmelo AnthonyAP/P2,032003202219Cole AnthonyB1,91202020222OG AnunobyAL/ES2,01201720225Ryan ArcidiaconoES/B1,91201720225D.J. AugustinB1,802008202214Deni AvdijaAL/AP2,05202020222Deandre AytonP2,11201820224Udoka AzubuikeP2,13202020222',\n",
       "  '20221Kyle AndersonAP/AL2,04201420228Giannis AntetokounmpoAP2,11201320229Thanasis AntetokounmpoAP/AL1,98201520224Carmelo AnthonyAP/P2,032003202219Cole AnthonyB1,91202020222OG AnunobyAL/ES2,01201720225Ryan ArcidiaconoES/B1,91201720225D.J. AugustinB1,802008202214Deni AvdijaAL/AP2,05202020222Deandre AytonP2,11201820224Udoka AzubuikeP2,13202020222',\n",
       "  '1Kyle AndersonAP/AL2,04201420228Giannis AntetokounmpoAP2,11201320229Thanasis AntetokounmpoAP/AL1,98201520224Carmelo AnthonyAP/P2,032003202219Cole AnthonyB1,91202020222OG AnunobyAL/ES2,01201720225Ryan ArcidiaconoES/B1,91201720225D.J. AugustinB1,802008202214Deni AvdijaAL/AP2,05202020222Deandre AytonP2,11201820224Udoka AzubuikeP2,13202020222',\n",
       "  'AP/AL2,04201420228Giannis AntetokounmpoAP2,11201320229Thanasis AntetokounmpoAP/AL1,98201520224Carmelo AnthonyAP/P2,032003202219Cole AnthonyB1,91202020222OG AnunobyAL/ES2,01201720225Ryan ArcidiaconoES/B1,91201720225D.J. AugustinB1,802008202214Deni AvdijaAL/AP2,05202020222Deandre AytonP2,11201820224Udoka AzubuikeP2,13202020222',\n",
       "  '2,04201420228Giannis AntetokounmpoAP2,11201320229Thanasis AntetokounmpoAP/AL1,98201520224Carmelo AnthonyAP/P2,032003202219Cole AnthonyB1,91202020222OG AnunobyAL/ES2,01201720225Ryan ArcidiaconoES/B1,91201720225D.J. AugustinB1,802008202214Deni AvdijaAL/AP2,05202020222Deandre AytonP2,11201820224Udoka AzubuikeP2,13202020222',\n",
       "  '201420228Giannis AntetokounmpoAP2,11201320229Thanasis AntetokounmpoAP/AL1,98201520224Carmelo AnthonyAP/P2,032003202219Cole AnthonyB1,91202020222OG AnunobyAL/ES2,01201720225Ryan ArcidiaconoES/B1,91201720225D.J. AugustinB1,802008202214Deni AvdijaAL/AP2,05202020222Deandre AytonP2,11201820224Udoka AzubuikeP2,13202020222',\n",
       "  '20228Giannis AntetokounmpoAP2,11201320229Thanasis AntetokounmpoAP/AL1,98201520224Carmelo AnthonyAP/P2,032003202219Cole AnthonyB1,91202020222OG AnunobyAL/ES2,01201720225Ryan ArcidiaconoES/B1,91201720225D.J. AugustinB1,802008202214Deni AvdijaAL/AP2,05202020222Deandre AytonP2,11201820224Udoka AzubuikeP2,13202020222',\n",
       "  '8Giannis AntetokounmpoAP2,11201320229Thanasis AntetokounmpoAP/AL1,98201520224Carmelo AnthonyAP/P2,032003202219Cole AnthonyB1,91202020222OG AnunobyAL/ES2,01201720225Ryan ArcidiaconoES/B1,91201720225D.J. AugustinB1,802008202214Deni AvdijaAL/AP2,05202020222Deandre AytonP2,11201820224Udoka AzubuikeP2,13202020222',\n",
       "  'AP2,11201320229Thanasis AntetokounmpoAP/AL1,98201520224Carmelo AnthonyAP/P2,032003202219Cole AnthonyB1,91202020222OG AnunobyAL/ES2,01201720225Ryan ArcidiaconoES/B1,91201720225D.J. AugustinB1,802008202214Deni AvdijaAL/AP2,05202020222Deandre AytonP2,11201820224Udoka AzubuikeP2,13202020222',\n",
       "  '2,11201320229Thanasis AntetokounmpoAP/AL1,98201520224Carmelo AnthonyAP/P2,032003202219Cole AnthonyB1,91202020222OG AnunobyAL/ES2,01201720225Ryan ArcidiaconoES/B1,91201720225D.J. AugustinB1,802008202214Deni AvdijaAL/AP2,05202020222Deandre AytonP2,11201820224Udoka AzubuikeP2,13202020222',\n",
       "  '201320229Thanasis AntetokounmpoAP/AL1,98201520224Carmelo AnthonyAP/P2,032003202219Cole AnthonyB1,91202020222OG AnunobyAL/ES2,01201720225Ryan ArcidiaconoES/B1,91201720225D.J. AugustinB1,802008202214Deni AvdijaAL/AP2,05202020222Deandre AytonP2,11201820224Udoka AzubuikeP2,13202020222',\n",
       "  '20229Thanasis AntetokounmpoAP/AL1,98201520224Carmelo AnthonyAP/P2,032003202219Cole AnthonyB1,91202020222OG AnunobyAL/ES2,01201720225Ryan ArcidiaconoES/B1,91201720225D.J. AugustinB1,802008202214Deni AvdijaAL/AP2,05202020222Deandre AytonP2,11201820224Udoka AzubuikeP2,13202020222',\n",
       "  '9Thanasis AntetokounmpoAP/AL1,98201520224Carmelo AnthonyAP/P2,032003202219Cole AnthonyB1,91202020222OG AnunobyAL/ES2,01201720225Ryan ArcidiaconoES/B1,91201720225D.J. AugustinB1,802008202214Deni AvdijaAL/AP2,05202020222Deandre AytonP2,11201820224Udoka AzubuikeP2,13202020222',\n",
       "  'AP/AL1,98201520224Carmelo AnthonyAP/P2,032003202219Cole AnthonyB1,91202020222OG AnunobyAL/ES2,01201720225Ryan ArcidiaconoES/B1,91201720225D.J. AugustinB1,802008202214Deni AvdijaAL/AP2,05202020222Deandre AytonP2,11201820224Udoka AzubuikeP2,13202020222',\n",
       "  '1,98201520224Carmelo AnthonyAP/P2,032003202219Cole AnthonyB1,91202020222OG AnunobyAL/ES2,01201720225Ryan ArcidiaconoES/B1,91201720225D.J. AugustinB1,802008202214Deni AvdijaAL/AP2,05202020222Deandre AytonP2,11201820224Udoka AzubuikeP2,13202020222',\n",
       "  '201520224Carmelo AnthonyAP/P2,032003202219Cole AnthonyB1,91202020222OG AnunobyAL/ES2,01201720225Ryan ArcidiaconoES/B1,91201720225D.J. AugustinB1,802008202214Deni AvdijaAL/AP2,05202020222Deandre AytonP2,11201820224Udoka AzubuikeP2,13202020222',\n",
       "  '20224Carmelo AnthonyAP/P2,032003202219Cole AnthonyB1,91202020222OG AnunobyAL/ES2,01201720225Ryan ArcidiaconoES/B1,91201720225D.J. AugustinB1,802008202214Deni AvdijaAL/AP2,05202020222Deandre AytonP2,11201820224Udoka AzubuikeP2,13202020222',\n",
       "  '4Carmelo AnthonyAP/P2,032003202219Cole AnthonyB1,91202020222OG AnunobyAL/ES2,01201720225Ryan ArcidiaconoES/B1,91201720225D.J. AugustinB1,802008202214Deni AvdijaAL/AP2,05202020222Deandre AytonP2,11201820224Udoka AzubuikeP2,13202020222',\n",
       "  'AP/P2,032003202219Cole AnthonyB1,91202020222OG AnunobyAL/ES2,01201720225Ryan ArcidiaconoES/B1,91201720225D.J. AugustinB1,802008202214Deni AvdijaAL/AP2,05202020222Deandre AytonP2,11201820224Udoka AzubuikeP2,13202020222',\n",
       "  '2,032003202219Cole AnthonyB1,91202020222OG AnunobyAL/ES2,01201720225Ryan ArcidiaconoES/B1,91201720225D.J. AugustinB1,802008202214Deni AvdijaAL/AP2,05202020222Deandre AytonP2,11201820224Udoka AzubuikeP2,13202020222',\n",
       "  '2003202219Cole AnthonyB1,91202020222OG AnunobyAL/ES2,01201720225Ryan ArcidiaconoES/B1,91201720225D.J. AugustinB1,802008202214Deni AvdijaAL/AP2,05202020222Deandre AytonP2,11201820224Udoka AzubuikeP2,13202020222',\n",
       "  '202219Cole AnthonyB1,91202020222OG AnunobyAL/ES2,01201720225Ryan ArcidiaconoES/B1,91201720225D.J. AugustinB1,802008202214Deni AvdijaAL/AP2,05202020222Deandre AytonP2,11201820224Udoka AzubuikeP2,13202020222',\n",
       "  '19Cole AnthonyB1,91202020222OG AnunobyAL/ES2,01201720225Ryan ArcidiaconoES/B1,91201720225D.J. AugustinB1,802008202214Deni AvdijaAL/AP2,05202020222Deandre AytonP2,11201820224Udoka AzubuikeP2,13202020222',\n",
       "  'B1,91202020222OG AnunobyAL/ES2,01201720225Ryan ArcidiaconoES/B1,91201720225D.J. AugustinB1,802008202214Deni AvdijaAL/AP2,05202020222Deandre AytonP2,11201820224Udoka AzubuikeP2,13202020222',\n",
       "  '1,91202020222OG AnunobyAL/ES2,01201720225Ryan ArcidiaconoES/B1,91201720225D.J. AugustinB1,802008202214Deni AvdijaAL/AP2,05202020222Deandre AytonP2,11201820224Udoka AzubuikeP2,13202020222',\n",
       "  '202020222OG AnunobyAL/ES2,01201720225Ryan ArcidiaconoES/B1,91201720225D.J. AugustinB1,802008202214Deni AvdijaAL/AP2,05202020222Deandre AytonP2,11201820224Udoka AzubuikeP2,13202020222',\n",
       "  '20222OG AnunobyAL/ES2,01201720225Ryan ArcidiaconoES/B1,91201720225D.J. AugustinB1,802008202214Deni AvdijaAL/AP2,05202020222Deandre AytonP2,11201820224Udoka AzubuikeP2,13202020222',\n",
       "  '2OG AnunobyAL/ES2,01201720225Ryan ArcidiaconoES/B1,91201720225D.J. AugustinB1,802008202214Deni AvdijaAL/AP2,05202020222Deandre AytonP2,11201820224Udoka AzubuikeP2,13202020222',\n",
       "  'AL/ES2,01201720225Ryan ArcidiaconoES/B1,91201720225D.J. AugustinB1,802008202214Deni AvdijaAL/AP2,05202020222Deandre AytonP2,11201820224Udoka AzubuikeP2,13202020222',\n",
       "  '2,01201720225Ryan ArcidiaconoES/B1,91201720225D.J. AugustinB1,802008202214Deni AvdijaAL/AP2,05202020222Deandre AytonP2,11201820224Udoka AzubuikeP2,13202020222',\n",
       "  '201720225Ryan ArcidiaconoES/B1,91201720225D.J. AugustinB1,802008202214Deni AvdijaAL/AP2,05202020222Deandre AytonP2,11201820224Udoka AzubuikeP2,13202020222',\n",
       "  '20225Ryan ArcidiaconoES/B1,91201720225D.J. AugustinB1,802008202214Deni AvdijaAL/AP2,05202020222Deandre AytonP2,11201820224Udoka AzubuikeP2,13202020222',\n",
       "  '5Ryan ArcidiaconoES/B1,91201720225D.J. AugustinB1,802008202214Deni AvdijaAL/AP2,05202020222Deandre AytonP2,11201820224Udoka AzubuikeP2,13202020222',\n",
       "  'ES/B1,91201720225D.J. AugustinB1,802008202214Deni AvdijaAL/AP2,05202020222Deandre AytonP2,11201820224Udoka AzubuikeP2,13202020222',\n",
       "  '1,91201720225D.J. AugustinB1,802008202214Deni AvdijaAL/AP2,05202020222Deandre AytonP2,11201820224Udoka AzubuikeP2,13202020222',\n",
       "  '201720225D.J. AugustinB1,802008202214Deni AvdijaAL/AP2,05202020222Deandre AytonP2,11201820224Udoka AzubuikeP2,13202020222',\n",
       "  '20225D.J. AugustinB1,802008202214Deni AvdijaAL/AP2,05202020222Deandre AytonP2,11201820224Udoka AzubuikeP2,13202020222',\n",
       "  '5D.J. AugustinB1,802008202214Deni AvdijaAL/AP2,05202020222Deandre AytonP2,11201820224Udoka AzubuikeP2,13202020222',\n",
       "  'B1,802008202214Deni AvdijaAL/AP2,05202020222Deandre AytonP2,11201820224Udoka AzubuikeP2,13202020222',\n",
       "  '1,802008202214Deni AvdijaAL/AP2,05202020222Deandre AytonP2,11201820224Udoka AzubuikeP2,13202020222',\n",
       "  '2008202214Deni AvdijaAL/AP2,05202020222Deandre AytonP2,11201820224Udoka AzubuikeP2,13202020222',\n",
       "  '202214Deni AvdijaAL/AP2,05202020222Deandre AytonP2,11201820224Udoka AzubuikeP2,13202020222',\n",
       "  '14Deni AvdijaAL/AP2,05202020222Deandre AytonP2,11201820224Udoka AzubuikeP2,13202020222',\n",
       "  'AL/AP2,05202020222Deandre AytonP2,11201820224Udoka AzubuikeP2,13202020222',\n",
       "  '2,05202020222Deandre AytonP2,11201820224Udoka AzubuikeP2,13202020222',\n",
       "  '202020222Deandre AytonP2,11201820224Udoka AzubuikeP2,13202020222',\n",
       "  '20222Deandre AytonP2,11201820224Udoka AzubuikeP2,13202020222',\n",
       "  '2Deandre AytonP2,11201820224Udoka AzubuikeP2,13202020222',\n",
       "  'P2,11201820224Udoka AzubuikeP2,13202020222',\n",
       "  '2,11201820224Udoka AzubuikeP2,13202020222',\n",
       "  '201820224Udoka AzubuikeP2,13202020222',\n",
       "  '20224Udoka AzubuikeP2,13202020222',\n",
       "  '4Udoka AzubuikeP2,13202020222',\n",
       "  'P2,13202020222',\n",
       "  '2,13202020222',\n",
       "  '202020222',\n",
       "  '20222',\n",
       "  '2'],\n",
       " 'peso': [],\n",
       " 'experiencia': [],\n",
       " 'pais': []}"
      ]
     },
     "execution_count": 56,
     "metadata": {},
     "output_type": "execute_result"
    }
   ],
   "source": [
    "for a in altura:\n",
    "    resultado_jugadores['altura'].append(a.getText())\n",
    "\n",
    "resultado_jugadores"
   ]
  },
  {
   "cell_type": "markdown",
   "metadata": {},
   "source": [
    "Abrimos el csv con los jugadores"
   ]
  },
  {
   "cell_type": "code",
   "execution_count": null,
   "metadata": {},
   "outputs": [
    {
     "data": {
      "text/html": [
       "<div>\n",
       "<style scoped>\n",
       "    .dataframe tbody tr th:only-of-type {\n",
       "        vertical-align: middle;\n",
       "    }\n",
       "\n",
       "    .dataframe tbody tr th {\n",
       "        vertical-align: top;\n",
       "    }\n",
       "\n",
       "    .dataframe thead th {\n",
       "        text-align: right;\n",
       "    }\n",
       "</style>\n",
       "<table border=\"1\" class=\"dataframe\">\n",
       "  <thead>\n",
       "    <tr style=\"text-align: right;\">\n",
       "      <th></th>\n",
       "      <th>rango</th>\n",
       "      <th>jugador</th>\n",
       "      <th>posicion</th>\n",
       "      <th>edad</th>\n",
       "      <th>equipo</th>\n",
       "      <th>partidos_jugados</th>\n",
       "      <th>partidos_iniciados</th>\n",
       "      <th>minutos_jugados</th>\n",
       "      <th>tiros_campo</th>\n",
       "      <th>intentos_campo</th>\n",
       "      <th>...</th>\n",
       "      <th>tiros_libres_porc</th>\n",
       "      <th>rebotes_ofensivos</th>\n",
       "      <th>rebotes_defensivos</th>\n",
       "      <th>total_rebotes</th>\n",
       "      <th>asistencias</th>\n",
       "      <th>robos</th>\n",
       "      <th>bloqueos</th>\n",
       "      <th>perdidas_balon</th>\n",
       "      <th>faltas_personales</th>\n",
       "      <th>total_puntos</th>\n",
       "    </tr>\n",
       "  </thead>\n",
       "  <tbody>\n",
       "    <tr>\n",
       "      <th>0</th>\n",
       "      <td>1</td>\n",
       "      <td>Precious Achiuwa</td>\n",
       "      <td>C</td>\n",
       "      <td>22</td>\n",
       "      <td>TOR</td>\n",
       "      <td>73</td>\n",
       "      <td>28</td>\n",
       "      <td>23.6</td>\n",
       "      <td>3.6</td>\n",
       "      <td>8.3</td>\n",
       "      <td>...</td>\n",
       "      <td>0.595</td>\n",
       "      <td>2.0</td>\n",
       "      <td>4.5</td>\n",
       "      <td>6.5</td>\n",
       "      <td>1.1</td>\n",
       "      <td>0.5</td>\n",
       "      <td>0.6</td>\n",
       "      <td>1.2</td>\n",
       "      <td>2.1</td>\n",
       "      <td>9.1</td>\n",
       "    </tr>\n",
       "    <tr>\n",
       "      <th>1</th>\n",
       "      <td>2</td>\n",
       "      <td>Steven Adams</td>\n",
       "      <td>C</td>\n",
       "      <td>28</td>\n",
       "      <td>MEM</td>\n",
       "      <td>76</td>\n",
       "      <td>75</td>\n",
       "      <td>26.3</td>\n",
       "      <td>2.8</td>\n",
       "      <td>5.1</td>\n",
       "      <td>...</td>\n",
       "      <td>0.543</td>\n",
       "      <td>4.6</td>\n",
       "      <td>5.4</td>\n",
       "      <td>10.0</td>\n",
       "      <td>3.4</td>\n",
       "      <td>0.9</td>\n",
       "      <td>0.8</td>\n",
       "      <td>1.5</td>\n",
       "      <td>2.0</td>\n",
       "      <td>6.9</td>\n",
       "    </tr>\n",
       "  </tbody>\n",
       "</table>\n",
       "<p>2 rows × 30 columns</p>\n",
       "</div>"
      ],
      "text/plain": [
       "   rango           jugador posicion  edad equipo  partidos_jugados  \\\n",
       "0      1  Precious Achiuwa        C    22    TOR                73   \n",
       "1      2      Steven Adams        C    28    MEM                76   \n",
       "\n",
       "   partidos_iniciados  minutos_jugados  tiros_campo  intentos_campo  ...  \\\n",
       "0                  28             23.6          3.6             8.3  ...   \n",
       "1                  75             26.3          2.8             5.1  ...   \n",
       "\n",
       "   tiros_libres_porc  rebotes_ofensivos  rebotes_defensivos  total_rebotes  \\\n",
       "0              0.595                2.0                 4.5            6.5   \n",
       "1              0.543                4.6                 5.4           10.0   \n",
       "\n",
       "   asistencias  robos  bloqueos  perdidas_balon  faltas_personales  \\\n",
       "0          1.1    0.5       0.6             1.2                2.1   \n",
       "1          3.4    0.9       0.8             1.5                2.0   \n",
       "\n",
       "   total_puntos  \n",
       "0           9.1  \n",
       "1           6.9  \n",
       "\n",
       "[2 rows x 30 columns]"
      ]
     },
     "execution_count": 260,
     "metadata": {},
     "output_type": "execute_result"
    }
   ],
   "source": [
    "df_nba = pd.read_csv('nba_regionales.csv', index_col=0)\n",
    "df_nba.head(2)"
   ]
  },
  {
   "cell_type": "markdown",
   "metadata": {},
   "source": [
    "'D?vis Bert?ns', Goran Dragi?, 'Nikola Joki?, 'Boban Marjanovi?, 'Jusuf Nurki?,  'Kristaps Porzi??is', 'Tomá\\x9a Satoransk?, 'Jonas Valan?i?nas', 'Nikola Vu?evi?', "
   ]
  },
  {
   "cell_type": "code",
   "execution_count": null,
   "metadata": {},
   "outputs": [
    {
     "data": {
      "text/plain": [
       "0       precious_achiuwa\n",
       "1           steven_adams\n",
       "2            bam_adebayo\n",
       "3           santi_aldama\n",
       "4      lamarcus_aldridge\n",
       "             ...        \n",
       "807       thaddeus_young\n",
       "808           trae_young\n",
       "809       omer_yurtseven\n",
       "810          cody_zeller\n",
       "811          ivica_zubac\n",
       "Name: jugador, Length: 812, dtype: object"
      ]
     },
     "execution_count": 262,
     "metadata": {},
     "output_type": "execute_result"
    }
   ],
   "source": [
    "df_nba['jugador'].rename({'d?vis_bert?ns':\"davis_bertons\",\"goran_dragi?\":\"goran_dragic\",\"nikola_joki?\":\"nikola_jokic\",\"boban_marjanovi?\":\"boban_marjanovic\",\"jusuf_nurki?\":\"jusuf_nurkic\",\n",
    "                                    \"kristaps_porzi??is\":\"kristaps_porzingis\", \"tomá\\x9a_satoransk?\":\"tomas_satoransky\", \"jonas_valan?i?nas\":\"jonas_valanciunas\",\n",
    "                                    \"nikola_vu?evi?\":\"nikola_vucevic\"\n",
    "                                    },inplace=True)\n",
    "df_nba['jugador']\n"
   ]
  },
  {
   "cell_type": "code",
   "execution_count": null,
   "metadata": {},
   "outputs": [
    {
     "data": {
      "text/plain": [
       "0       precious_achiuwa\n",
       "1           steven_adams\n",
       "2            bam_adebayo\n",
       "3           santi_aldama\n",
       "4      lamarcus_aldridge\n",
       "             ...        \n",
       "807       thaddeus_young\n",
       "808           trae_young\n",
       "809       omer_yurtseven\n",
       "810          cody_zeller\n",
       "811          ivica_zubac\n",
       "Name: jugador, Length: 812, dtype: object"
      ]
     },
     "execution_count": 264,
     "metadata": {},
     "output_type": "execute_result"
    }
   ],
   "source": [
    "jugadores = df_nba['jugador']\n",
    "jugadores"
   ]
  },
  {
   "cell_type": "code",
   "execution_count": null,
   "metadata": {},
   "outputs": [],
   "source": [
    "url_nba = 'https://www.hispanosnba.com/jugadores/{}'"
   ]
  },
  {
   "cell_type": "code",
   "execution_count": null,
   "metadata": {},
   "outputs": [
    {
     "ename": "OSError",
     "evalue": "[Errno 22] Invalid argument: 'info_jugadores/d?vis_bert?ns.html'",
     "output_type": "error",
     "traceback": [
      "\u001b[1;31m---------------------------------------------------------------------------\u001b[0m",
      "\u001b[1;31mOSError\u001b[0m                                   Traceback (most recent call last)",
      "\u001b[1;32mc:\\Users\\mante\\Desktop\\ALICIA\\Proyecto-NBA\\Más datos\\web_scrapping_jugadores.ipynb Cell 16\u001b[0m in \u001b[0;36m<cell line: 1>\u001b[1;34m()\u001b[0m\n\u001b[0;32m      <a href='vscode-notebook-cell:/c%3A/Users/mante/Desktop/ALICIA/Proyecto-NBA/M%C3%A1s%20datos/web_scrapping_jugadores.ipynb#ch0000024?line=1'>2</a>\u001b[0m url \u001b[39m=\u001b[39m url_nba\u001b[39m.\u001b[39mformat(jugador)\n\u001b[0;32m      <a href='vscode-notebook-cell:/c%3A/Users/mante/Desktop/ALICIA/Proyecto-NBA/M%C3%A1s%20datos/web_scrapping_jugadores.ipynb#ch0000024?line=3'>4</a>\u001b[0m data \u001b[39m=\u001b[39m requests\u001b[39m.\u001b[39mget(url)\n\u001b[1;32m----> <a href='vscode-notebook-cell:/c%3A/Users/mante/Desktop/ALICIA/Proyecto-NBA/M%C3%A1s%20datos/web_scrapping_jugadores.ipynb#ch0000024?line=5'>6</a>\u001b[0m \u001b[39mwith\u001b[39;00m \u001b[39mopen\u001b[39;49m(\u001b[39m\"\u001b[39;49m\u001b[39minfo_jugadores/\u001b[39;49m\u001b[39m{}\u001b[39;49;00m\u001b[39m.html\u001b[39;49m\u001b[39m\"\u001b[39;49m\u001b[39m.\u001b[39;49mformat(jugador), \u001b[39m\"\u001b[39;49m\u001b[39mw+\u001b[39;49m\u001b[39m\"\u001b[39;49m) \u001b[39mas\u001b[39;00m f:\n\u001b[0;32m      <a href='vscode-notebook-cell:/c%3A/Users/mante/Desktop/ALICIA/Proyecto-NBA/M%C3%A1s%20datos/web_scrapping_jugadores.ipynb#ch0000024?line=6'>7</a>\u001b[0m     f\u001b[39m.\u001b[39mwrite(data\u001b[39m.\u001b[39mtext)\n",
      "\u001b[1;31mOSError\u001b[0m: [Errno 22] Invalid argument: 'info_jugadores/d?vis_bert?ns.html'"
     ]
    }
   ],
   "source": [
    "for jugador in jugadores:\n",
    "    url = url_nba.format(jugador)\n",
    "    \n",
    "    data = requests.get(url)\n",
    "    \n",
    "    with open(\"info_jugadores/{}.html\".format(jugador), \"w+\") as f:\n",
    "        f.write(data.text)"
   ]
  },
  {
   "cell_type": "code",
   "execution_count": null,
   "metadata": {},
   "outputs": [],
   "source": [
    "dfs = []\n",
    "for jugador in jugadores:\n",
    "    with open(\"info_jugadores/{}.html\".format(jugador)) as f:\n",
    "        page = f.read()\n",
    "    \n",
    "    soup = BeautifulSoup(page, 'html.parser')\n",
    "    tabla = soup.find_all(id=\"mvp\")[0]\n",
    "    mvp_df = pd.read_html(str(mvp_table))[0]\n",
    "    mvp_df[\"Year\"] = year\n",
    "    dfs.append(mvp_df)\n",
    "\n"
   ]
  },
  {
   "cell_type": "markdown",
   "metadata": {},
   "source": [
    "- Haremos un diccionario donde introduciremos la diferente información que queremos para construir un dataset"
   ]
  },
  {
   "cell_type": "code",
   "execution_count": null,
   "metadata": {},
   "outputs": [],
   "source": [
    "resultado_jugadores = {'jugador': [],\n",
    "                        'imagen': [],\n",
    "                        'altura': [],\n",
    "                        'peso': [],\n",
    "                        'experiencia':[],\n",
    "                        'pais': []}"
   ]
  }
 ],
 "metadata": {
  "kernelspec": {
   "display_name": "Python 3.10.5 64-bit",
   "language": "python",
   "name": "python3"
  },
  "language_info": {
   "codemirror_mode": {
    "name": "ipython",
    "version": 3
   },
   "file_extension": ".py",
   "mimetype": "text/x-python",
   "name": "python",
   "nbconvert_exporter": "python",
   "pygments_lexer": "ipython3",
   "version": "3.10.5"
  },
  "orig_nbformat": 4,
  "vscode": {
   "interpreter": {
    "hash": "d3e10ef16274dd72e574b8fa73b58450b957d8421a2901baded3cca26fcf5dda"
   }
  }
 },
 "nbformat": 4,
 "nbformat_minor": 2
}
